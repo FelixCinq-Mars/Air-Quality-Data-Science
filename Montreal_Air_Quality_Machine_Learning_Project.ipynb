{
  "nbformat": 4,
  "nbformat_minor": 0,
  "metadata": {
    "colab": {
      "provenance": [],
      "collapsed_sections": [
        "jC4Yl7eQFmzB",
        "_nbiG01rGXwQ",
        "HzImaulBGpfF",
        "aJmNLh6IHOip",
        "1NuSGOsBHw7m",
        "FGr6VCCpR6K3",
        "S1ke6yAoGzRM",
        "1BfGLlG72sKJ",
        "47SmvsRhqye5",
        "ceVZ9Z3U2bxm"
      ],
      "authorship_tag": "ABX9TyMZI3fBSwkGfipEye3ayrS9",
      "include_colab_link": true
    },
    "kernelspec": {
      "name": "python3",
      "display_name": "Python 3"
    },
    "language_info": {
      "name": "python"
    }
  },
  "cells": [
    {
      "cell_type": "markdown",
      "metadata": {
        "id": "view-in-github",
        "colab_type": "text"
      },
      "source": [
        "<a href=\"https://colab.research.google.com/github/FelixCinq-Mars/Air-Quality-Data-Science/blob/main/Montreal_Air_Quality_Machine_Learning_Project.ipynb\" target=\"_parent\"><img src=\"https://colab.research.google.com/assets/colab-badge.svg\" alt=\"Open In Colab\"/></a>"
      ]
    },
    {
      "cell_type": "markdown",
      "source": [
        "#Predicting Montreal Air Quality\n",
        "\n",
        "##A Machine Learning Project\n",
        "\n",
        "By Félix Cinq-Mars"
      ],
      "metadata": {
        "id": "jC4Yl7eQFmzB"
      }
    },
    {
      "cell_type": "markdown",
      "source": [
        "#Introduction"
      ],
      "metadata": {
        "id": "_nbiG01rGXwQ"
      }
    },
    {
      "cell_type": "markdown",
      "source": [
        "In this project, we want to study data from the Montreal Open Data Portal which can be accessed through here: https://donnees.montreal.ca/.\n",
        "\n",
        "The dataset we want to analyze is the air quality in the Montreal area. We'll use the data to answer basic questions like: \"Which pollutant has the worst air quality index?\" or \"Which borough has the worst air quality?\".\n",
        "\n",
        "Then, we will try to predict air quality based on existing data using machine learning."
      ],
      "metadata": {
        "id": "QDeiy5krG-RJ"
      }
    },
    {
      "cell_type": "markdown",
      "source": [
        "#Data Pre-Processing"
      ],
      "metadata": {
        "id": "HzImaulBGpfF"
      }
    },
    {
      "cell_type": "markdown",
      "source": [
        "##Importing Packages"
      ],
      "metadata": {
        "id": "aJmNLh6IHOip"
      }
    },
    {
      "cell_type": "code",
      "source": [
        "import pandas as pd\n",
        "import matplotlib.pyplot as plt\n",
        "import numpy as np"
      ],
      "metadata": {
        "id": "Tna41yTOHTcV"
      },
      "execution_count": 71,
      "outputs": []
    },
    {
      "cell_type": "markdown",
      "source": [
        "##Discussing Data Quality"
      ],
      "metadata": {
        "id": "1NuSGOsBHw7m"
      }
    },
    {
      "cell_type": "markdown",
      "source": [
        "The Montreal Air Quality dataset comes from the Montreal Open Data Portal: https://donnees.montreal.ca/ville-de-montreal/rsqa-indice-qualite-air"
      ],
      "metadata": {
        "id": "0HRrdUf4IB30"
      }
    },
    {
      "cell_type": "markdown",
      "source": [
        "We have two datasets: one dataset showing the air quality index (IQA) per air quality station, the other showing information about each air quality station. Let's import the datasets."
      ],
      "metadata": {
        "id": "T-W_7UupIavR"
      }
    },
    {
      "cell_type": "markdown",
      "source": [
        "Here is the IQA per station:"
      ],
      "metadata": {
        "id": "l61Iue4TL0I-"
      }
    },
    {
      "cell_type": "code",
      "source": [
        "air_quality_df = pd.read_csv('https://data.montreal.ca/dataset/3e9f7b96-3f25-4404-a5ad-22d9a31060e6/resource/a25fdea2-7e86-42ac-8301-ca77db3ff17e/download/rsqa-indice-qualite-air.csv')"
      ],
      "metadata": {
        "id": "yaOKzh0pxroI"
      },
      "execution_count": 72,
      "outputs": []
    },
    {
      "cell_type": "code",
      "source": [
        "air_quality_df.head(10)"
      ],
      "metadata": {
        "colab": {
          "base_uri": "https://localhost:8080/",
          "height": 363
        },
        "id": "1XlY7ayJIsEo",
        "outputId": "9cf927b1-745e-43f5-ac2d-aeb93be7cc7c"
      },
      "execution_count": 73,
      "outputs": [
        {
          "output_type": "execute_result",
          "data": {
            "text/plain": [
              "   stationId polluant  valeur        date  heure\n",
              "0          3      NO2       1  2022-11-21      0\n",
              "1          3       O3      18  2022-11-21      0\n",
              "2          3       PM       5  2022-11-21      0\n",
              "3          3      SO2       2  2022-11-21      0\n",
              "4          6      NO2       1  2022-11-21      0\n",
              "5          6       O3      18  2022-11-21      0\n",
              "6          6       PM       2  2022-11-21      0\n",
              "7          6      SO2       1  2022-11-21      0\n",
              "8         17       CO       1  2022-11-21      0\n",
              "9         17      NO2       1  2022-11-21      0"
            ],
            "text/html": [
              "\n",
              "  <div id=\"df-fe23e8d5-9698-4d41-a997-9f5435103ffc\">\n",
              "    <div class=\"colab-df-container\">\n",
              "      <div>\n",
              "<style scoped>\n",
              "    .dataframe tbody tr th:only-of-type {\n",
              "        vertical-align: middle;\n",
              "    }\n",
              "\n",
              "    .dataframe tbody tr th {\n",
              "        vertical-align: top;\n",
              "    }\n",
              "\n",
              "    .dataframe thead th {\n",
              "        text-align: right;\n",
              "    }\n",
              "</style>\n",
              "<table border=\"1\" class=\"dataframe\">\n",
              "  <thead>\n",
              "    <tr style=\"text-align: right;\">\n",
              "      <th></th>\n",
              "      <th>stationId</th>\n",
              "      <th>polluant</th>\n",
              "      <th>valeur</th>\n",
              "      <th>date</th>\n",
              "      <th>heure</th>\n",
              "    </tr>\n",
              "  </thead>\n",
              "  <tbody>\n",
              "    <tr>\n",
              "      <th>0</th>\n",
              "      <td>3</td>\n",
              "      <td>NO2</td>\n",
              "      <td>1</td>\n",
              "      <td>2022-11-21</td>\n",
              "      <td>0</td>\n",
              "    </tr>\n",
              "    <tr>\n",
              "      <th>1</th>\n",
              "      <td>3</td>\n",
              "      <td>O3</td>\n",
              "      <td>18</td>\n",
              "      <td>2022-11-21</td>\n",
              "      <td>0</td>\n",
              "    </tr>\n",
              "    <tr>\n",
              "      <th>2</th>\n",
              "      <td>3</td>\n",
              "      <td>PM</td>\n",
              "      <td>5</td>\n",
              "      <td>2022-11-21</td>\n",
              "      <td>0</td>\n",
              "    </tr>\n",
              "    <tr>\n",
              "      <th>3</th>\n",
              "      <td>3</td>\n",
              "      <td>SO2</td>\n",
              "      <td>2</td>\n",
              "      <td>2022-11-21</td>\n",
              "      <td>0</td>\n",
              "    </tr>\n",
              "    <tr>\n",
              "      <th>4</th>\n",
              "      <td>6</td>\n",
              "      <td>NO2</td>\n",
              "      <td>1</td>\n",
              "      <td>2022-11-21</td>\n",
              "      <td>0</td>\n",
              "    </tr>\n",
              "    <tr>\n",
              "      <th>5</th>\n",
              "      <td>6</td>\n",
              "      <td>O3</td>\n",
              "      <td>18</td>\n",
              "      <td>2022-11-21</td>\n",
              "      <td>0</td>\n",
              "    </tr>\n",
              "    <tr>\n",
              "      <th>6</th>\n",
              "      <td>6</td>\n",
              "      <td>PM</td>\n",
              "      <td>2</td>\n",
              "      <td>2022-11-21</td>\n",
              "      <td>0</td>\n",
              "    </tr>\n",
              "    <tr>\n",
              "      <th>7</th>\n",
              "      <td>6</td>\n",
              "      <td>SO2</td>\n",
              "      <td>1</td>\n",
              "      <td>2022-11-21</td>\n",
              "      <td>0</td>\n",
              "    </tr>\n",
              "    <tr>\n",
              "      <th>8</th>\n",
              "      <td>17</td>\n",
              "      <td>CO</td>\n",
              "      <td>1</td>\n",
              "      <td>2022-11-21</td>\n",
              "      <td>0</td>\n",
              "    </tr>\n",
              "    <tr>\n",
              "      <th>9</th>\n",
              "      <td>17</td>\n",
              "      <td>NO2</td>\n",
              "      <td>1</td>\n",
              "      <td>2022-11-21</td>\n",
              "      <td>0</td>\n",
              "    </tr>\n",
              "  </tbody>\n",
              "</table>\n",
              "</div>\n",
              "      <button class=\"colab-df-convert\" onclick=\"convertToInteractive('df-fe23e8d5-9698-4d41-a997-9f5435103ffc')\"\n",
              "              title=\"Convert this dataframe to an interactive table.\"\n",
              "              style=\"display:none;\">\n",
              "        \n",
              "  <svg xmlns=\"http://www.w3.org/2000/svg\" height=\"24px\"viewBox=\"0 0 24 24\"\n",
              "       width=\"24px\">\n",
              "    <path d=\"M0 0h24v24H0V0z\" fill=\"none\"/>\n",
              "    <path d=\"M18.56 5.44l.94 2.06.94-2.06 2.06-.94-2.06-.94-.94-2.06-.94 2.06-2.06.94zm-11 1L8.5 8.5l.94-2.06 2.06-.94-2.06-.94L8.5 2.5l-.94 2.06-2.06.94zm10 10l.94 2.06.94-2.06 2.06-.94-2.06-.94-.94-2.06-.94 2.06-2.06.94z\"/><path d=\"M17.41 7.96l-1.37-1.37c-.4-.4-.92-.59-1.43-.59-.52 0-1.04.2-1.43.59L10.3 9.45l-7.72 7.72c-.78.78-.78 2.05 0 2.83L4 21.41c.39.39.9.59 1.41.59.51 0 1.02-.2 1.41-.59l7.78-7.78 2.81-2.81c.8-.78.8-2.07 0-2.86zM5.41 20L4 18.59l7.72-7.72 1.47 1.35L5.41 20z\"/>\n",
              "  </svg>\n",
              "      </button>\n",
              "      \n",
              "  <style>\n",
              "    .colab-df-container {\n",
              "      display:flex;\n",
              "      flex-wrap:wrap;\n",
              "      gap: 12px;\n",
              "    }\n",
              "\n",
              "    .colab-df-convert {\n",
              "      background-color: #E8F0FE;\n",
              "      border: none;\n",
              "      border-radius: 50%;\n",
              "      cursor: pointer;\n",
              "      display: none;\n",
              "      fill: #1967D2;\n",
              "      height: 32px;\n",
              "      padding: 0 0 0 0;\n",
              "      width: 32px;\n",
              "    }\n",
              "\n",
              "    .colab-df-convert:hover {\n",
              "      background-color: #E2EBFA;\n",
              "      box-shadow: 0px 1px 2px rgba(60, 64, 67, 0.3), 0px 1px 3px 1px rgba(60, 64, 67, 0.15);\n",
              "      fill: #174EA6;\n",
              "    }\n",
              "\n",
              "    [theme=dark] .colab-df-convert {\n",
              "      background-color: #3B4455;\n",
              "      fill: #D2E3FC;\n",
              "    }\n",
              "\n",
              "    [theme=dark] .colab-df-convert:hover {\n",
              "      background-color: #434B5C;\n",
              "      box-shadow: 0px 1px 3px 1px rgba(0, 0, 0, 0.15);\n",
              "      filter: drop-shadow(0px 1px 2px rgba(0, 0, 0, 0.3));\n",
              "      fill: #FFFFFF;\n",
              "    }\n",
              "  </style>\n",
              "\n",
              "      <script>\n",
              "        const buttonEl =\n",
              "          document.querySelector('#df-fe23e8d5-9698-4d41-a997-9f5435103ffc button.colab-df-convert');\n",
              "        buttonEl.style.display =\n",
              "          google.colab.kernel.accessAllowed ? 'block' : 'none';\n",
              "\n",
              "        async function convertToInteractive(key) {\n",
              "          const element = document.querySelector('#df-fe23e8d5-9698-4d41-a997-9f5435103ffc');\n",
              "          const dataTable =\n",
              "            await google.colab.kernel.invokeFunction('convertToInteractive',\n",
              "                                                     [key], {});\n",
              "          if (!dataTable) return;\n",
              "\n",
              "          const docLinkHtml = 'Like what you see? Visit the ' +\n",
              "            '<a target=\"_blank\" href=https://colab.research.google.com/notebooks/data_table.ipynb>data table notebook</a>'\n",
              "            + ' to learn more about interactive tables.';\n",
              "          element.innerHTML = '';\n",
              "          dataTable['output_type'] = 'display_data';\n",
              "          await google.colab.output.renderOutput(dataTable, element);\n",
              "          const docLink = document.createElement('div');\n",
              "          docLink.innerHTML = docLinkHtml;\n",
              "          element.appendChild(docLink);\n",
              "        }\n",
              "      </script>\n",
              "    </div>\n",
              "  </div>\n",
              "  "
            ]
          },
          "metadata": {},
          "execution_count": 73
        }
      ]
    },
    {
      "cell_type": "markdown",
      "source": [
        "Here is the information about each station:"
      ],
      "metadata": {
        "id": "ENfApW6uL8We"
      }
    },
    {
      "cell_type": "code",
      "source": [
        "air_stations_df = pd.read_csv('https://data.montreal.ca/dataset/ae01f7f3-4d69-404a-9be1-74abfdc96571/resource/29db5545-89a4-4e4a-9e95-05aa6dc2fd80/download/liste-des-stations-rsqa.csv')\n"
      ],
      "metadata": {
        "id": "ywCDFV4y52DI"
      },
      "execution_count": 74,
      "outputs": []
    },
    {
      "cell_type": "code",
      "source": [
        "air_stations_df.head(10)"
      ],
      "metadata": {
        "colab": {
          "base_uri": "https://localhost:8080/",
          "height": 705
        },
        "id": "qqfO3FNFMS2c",
        "outputId": "ed63f0eb-e365-4129-cf26-afe0c58cb95d"
      },
      "execution_count": 75,
      "outputs": [
        {
          "output_type": "execute_result",
          "data": {
            "text/plain": [
              "   numero_station     SNPA  statut                   nom  \\\n",
              "0               1  50102.0   fermé      Jardin Botanique   \n",
              "1               3  50103.0  ouvert  Saint-Jean-Baptiste    \n",
              "2               6  50124.0  ouvert                 Anjou   \n",
              "3               7  50133.0   fermé               Chénier   \n",
              "4              12  50104.0   fermé               Ontario   \n",
              "5              13  50105.0   fermé              Drummond   \n",
              "6              17  50135.0  ouvert            Caserne 17   \n",
              "7              28  50109.0  ouvert     Échangeur Décarie   \n",
              "8              29  50110.0   fermé            Parc Pilon   \n",
              "9              31  50136.0  ouvert       Saint-Dominique   \n",
              "\n",
              "                                             adresse  \\\n",
              "0                         Jardin Botanique, Montréal   \n",
              "1                           1050 A, St-Jean-Baptiste   \n",
              "2                               7650 rue Châteauneuf   \n",
              "3  Aréna Chénier (coin Chénier et Avenue de l'Aréna)   \n",
              "4                                       1125 Ontario   \n",
              "5                                      1212 Drummond   \n",
              "6                                 4240 rue Charleroi   \n",
              "7                                        2495 Duncan   \n",
              "8                         11280 Pie IX, (Parc Pilon)   \n",
              "9                                75, rue Ontario Est   \n",
              "\n",
              "        arrondissement_ville   latitude  longitude              X  \\\n",
              "0  Rosemont-La Petite-Patrie  45.562210 -73.571785  299196.165787   \n",
              "1       Rivière-des-Prairies  45.641026 -73.499682  304824.789662   \n",
              "2                      Anjou  45.602846 -73.558874  300207.366295   \n",
              "3                      Anjou  45.601760 -73.541992  301524.231483   \n",
              "4                Ville-Marie  45.520550 -73.563222  299860.982713   \n",
              "5                Ville-Marie  45.497859 -73.573035  299092.080351   \n",
              "6              Montréal-Nord  45.593325 -73.637328  294085.527312   \n",
              "7                 Mont-Royal  45.502648 -73.663913  291990.759168   \n",
              "8              Montréal-Nord  45.594576 -73.641535  293757.538178   \n",
              "9                Ville-Marie  45.512189 -73.566842  299577.408388   \n",
              "\n",
              "              Y  secteur_id   secteur_nom  hauteur  \n",
              "0  5.046925e+06           1  Centre-Ville      4.0  \n",
              "1  5.055681e+06           4           Est      4.0  \n",
              "2  5.051440e+06           4           Est     12.0  \n",
              "3  5.051318e+06           4           Est      4.0  \n",
              "4  5.042294e+06           1  Centre-Ville     16.0  \n",
              "5  5.039773e+06           1  Centre-Ville      NaN  \n",
              "6  5.050389e+06           3          Nord     15.0  \n",
              "7  5.040316e+06           3          Nord      4.0  \n",
              "8  5.050529e+06           3          Nord      4.0  \n",
              "9  5.041365e+06           1  Centre-Ville     15.0  "
            ],
            "text/html": [
              "\n",
              "  <div id=\"df-87f8cd99-297a-4271-8a46-39e75a802771\">\n",
              "    <div class=\"colab-df-container\">\n",
              "      <div>\n",
              "<style scoped>\n",
              "    .dataframe tbody tr th:only-of-type {\n",
              "        vertical-align: middle;\n",
              "    }\n",
              "\n",
              "    .dataframe tbody tr th {\n",
              "        vertical-align: top;\n",
              "    }\n",
              "\n",
              "    .dataframe thead th {\n",
              "        text-align: right;\n",
              "    }\n",
              "</style>\n",
              "<table border=\"1\" class=\"dataframe\">\n",
              "  <thead>\n",
              "    <tr style=\"text-align: right;\">\n",
              "      <th></th>\n",
              "      <th>numero_station</th>\n",
              "      <th>SNPA</th>\n",
              "      <th>statut</th>\n",
              "      <th>nom</th>\n",
              "      <th>adresse</th>\n",
              "      <th>arrondissement_ville</th>\n",
              "      <th>latitude</th>\n",
              "      <th>longitude</th>\n",
              "      <th>X</th>\n",
              "      <th>Y</th>\n",
              "      <th>secteur_id</th>\n",
              "      <th>secteur_nom</th>\n",
              "      <th>hauteur</th>\n",
              "    </tr>\n",
              "  </thead>\n",
              "  <tbody>\n",
              "    <tr>\n",
              "      <th>0</th>\n",
              "      <td>1</td>\n",
              "      <td>50102.0</td>\n",
              "      <td>fermé</td>\n",
              "      <td>Jardin Botanique</td>\n",
              "      <td>Jardin Botanique, Montréal</td>\n",
              "      <td>Rosemont-La Petite-Patrie</td>\n",
              "      <td>45.562210</td>\n",
              "      <td>-73.571785</td>\n",
              "      <td>299196.165787</td>\n",
              "      <td>5.046925e+06</td>\n",
              "      <td>1</td>\n",
              "      <td>Centre-Ville</td>\n",
              "      <td>4.0</td>\n",
              "    </tr>\n",
              "    <tr>\n",
              "      <th>1</th>\n",
              "      <td>3</td>\n",
              "      <td>50103.0</td>\n",
              "      <td>ouvert</td>\n",
              "      <td>Saint-Jean-Baptiste</td>\n",
              "      <td>1050 A, St-Jean-Baptiste</td>\n",
              "      <td>Rivière-des-Prairies</td>\n",
              "      <td>45.641026</td>\n",
              "      <td>-73.499682</td>\n",
              "      <td>304824.789662</td>\n",
              "      <td>5.055681e+06</td>\n",
              "      <td>4</td>\n",
              "      <td>Est</td>\n",
              "      <td>4.0</td>\n",
              "    </tr>\n",
              "    <tr>\n",
              "      <th>2</th>\n",
              "      <td>6</td>\n",
              "      <td>50124.0</td>\n",
              "      <td>ouvert</td>\n",
              "      <td>Anjou</td>\n",
              "      <td>7650 rue Châteauneuf</td>\n",
              "      <td>Anjou</td>\n",
              "      <td>45.602846</td>\n",
              "      <td>-73.558874</td>\n",
              "      <td>300207.366295</td>\n",
              "      <td>5.051440e+06</td>\n",
              "      <td>4</td>\n",
              "      <td>Est</td>\n",
              "      <td>12.0</td>\n",
              "    </tr>\n",
              "    <tr>\n",
              "      <th>3</th>\n",
              "      <td>7</td>\n",
              "      <td>50133.0</td>\n",
              "      <td>fermé</td>\n",
              "      <td>Chénier</td>\n",
              "      <td>Aréna Chénier (coin Chénier et Avenue de l'Aréna)</td>\n",
              "      <td>Anjou</td>\n",
              "      <td>45.601760</td>\n",
              "      <td>-73.541992</td>\n",
              "      <td>301524.231483</td>\n",
              "      <td>5.051318e+06</td>\n",
              "      <td>4</td>\n",
              "      <td>Est</td>\n",
              "      <td>4.0</td>\n",
              "    </tr>\n",
              "    <tr>\n",
              "      <th>4</th>\n",
              "      <td>12</td>\n",
              "      <td>50104.0</td>\n",
              "      <td>fermé</td>\n",
              "      <td>Ontario</td>\n",
              "      <td>1125 Ontario</td>\n",
              "      <td>Ville-Marie</td>\n",
              "      <td>45.520550</td>\n",
              "      <td>-73.563222</td>\n",
              "      <td>299860.982713</td>\n",
              "      <td>5.042294e+06</td>\n",
              "      <td>1</td>\n",
              "      <td>Centre-Ville</td>\n",
              "      <td>16.0</td>\n",
              "    </tr>\n",
              "    <tr>\n",
              "      <th>5</th>\n",
              "      <td>13</td>\n",
              "      <td>50105.0</td>\n",
              "      <td>fermé</td>\n",
              "      <td>Drummond</td>\n",
              "      <td>1212 Drummond</td>\n",
              "      <td>Ville-Marie</td>\n",
              "      <td>45.497859</td>\n",
              "      <td>-73.573035</td>\n",
              "      <td>299092.080351</td>\n",
              "      <td>5.039773e+06</td>\n",
              "      <td>1</td>\n",
              "      <td>Centre-Ville</td>\n",
              "      <td>NaN</td>\n",
              "    </tr>\n",
              "    <tr>\n",
              "      <th>6</th>\n",
              "      <td>17</td>\n",
              "      <td>50135.0</td>\n",
              "      <td>ouvert</td>\n",
              "      <td>Caserne 17</td>\n",
              "      <td>4240 rue Charleroi</td>\n",
              "      <td>Montréal-Nord</td>\n",
              "      <td>45.593325</td>\n",
              "      <td>-73.637328</td>\n",
              "      <td>294085.527312</td>\n",
              "      <td>5.050389e+06</td>\n",
              "      <td>3</td>\n",
              "      <td>Nord</td>\n",
              "      <td>15.0</td>\n",
              "    </tr>\n",
              "    <tr>\n",
              "      <th>7</th>\n",
              "      <td>28</td>\n",
              "      <td>50109.0</td>\n",
              "      <td>ouvert</td>\n",
              "      <td>Échangeur Décarie</td>\n",
              "      <td>2495 Duncan</td>\n",
              "      <td>Mont-Royal</td>\n",
              "      <td>45.502648</td>\n",
              "      <td>-73.663913</td>\n",
              "      <td>291990.759168</td>\n",
              "      <td>5.040316e+06</td>\n",
              "      <td>3</td>\n",
              "      <td>Nord</td>\n",
              "      <td>4.0</td>\n",
              "    </tr>\n",
              "    <tr>\n",
              "      <th>8</th>\n",
              "      <td>29</td>\n",
              "      <td>50110.0</td>\n",
              "      <td>fermé</td>\n",
              "      <td>Parc Pilon</td>\n",
              "      <td>11280 Pie IX, (Parc Pilon)</td>\n",
              "      <td>Montréal-Nord</td>\n",
              "      <td>45.594576</td>\n",
              "      <td>-73.641535</td>\n",
              "      <td>293757.538178</td>\n",
              "      <td>5.050529e+06</td>\n",
              "      <td>3</td>\n",
              "      <td>Nord</td>\n",
              "      <td>4.0</td>\n",
              "    </tr>\n",
              "    <tr>\n",
              "      <th>9</th>\n",
              "      <td>31</td>\n",
              "      <td>50136.0</td>\n",
              "      <td>ouvert</td>\n",
              "      <td>Saint-Dominique</td>\n",
              "      <td>75, rue Ontario Est</td>\n",
              "      <td>Ville-Marie</td>\n",
              "      <td>45.512189</td>\n",
              "      <td>-73.566842</td>\n",
              "      <td>299577.408388</td>\n",
              "      <td>5.041365e+06</td>\n",
              "      <td>1</td>\n",
              "      <td>Centre-Ville</td>\n",
              "      <td>15.0</td>\n",
              "    </tr>\n",
              "  </tbody>\n",
              "</table>\n",
              "</div>\n",
              "      <button class=\"colab-df-convert\" onclick=\"convertToInteractive('df-87f8cd99-297a-4271-8a46-39e75a802771')\"\n",
              "              title=\"Convert this dataframe to an interactive table.\"\n",
              "              style=\"display:none;\">\n",
              "        \n",
              "  <svg xmlns=\"http://www.w3.org/2000/svg\" height=\"24px\"viewBox=\"0 0 24 24\"\n",
              "       width=\"24px\">\n",
              "    <path d=\"M0 0h24v24H0V0z\" fill=\"none\"/>\n",
              "    <path d=\"M18.56 5.44l.94 2.06.94-2.06 2.06-.94-2.06-.94-.94-2.06-.94 2.06-2.06.94zm-11 1L8.5 8.5l.94-2.06 2.06-.94-2.06-.94L8.5 2.5l-.94 2.06-2.06.94zm10 10l.94 2.06.94-2.06 2.06-.94-2.06-.94-.94-2.06-.94 2.06-2.06.94z\"/><path d=\"M17.41 7.96l-1.37-1.37c-.4-.4-.92-.59-1.43-.59-.52 0-1.04.2-1.43.59L10.3 9.45l-7.72 7.72c-.78.78-.78 2.05 0 2.83L4 21.41c.39.39.9.59 1.41.59.51 0 1.02-.2 1.41-.59l7.78-7.78 2.81-2.81c.8-.78.8-2.07 0-2.86zM5.41 20L4 18.59l7.72-7.72 1.47 1.35L5.41 20z\"/>\n",
              "  </svg>\n",
              "      </button>\n",
              "      \n",
              "  <style>\n",
              "    .colab-df-container {\n",
              "      display:flex;\n",
              "      flex-wrap:wrap;\n",
              "      gap: 12px;\n",
              "    }\n",
              "\n",
              "    .colab-df-convert {\n",
              "      background-color: #E8F0FE;\n",
              "      border: none;\n",
              "      border-radius: 50%;\n",
              "      cursor: pointer;\n",
              "      display: none;\n",
              "      fill: #1967D2;\n",
              "      height: 32px;\n",
              "      padding: 0 0 0 0;\n",
              "      width: 32px;\n",
              "    }\n",
              "\n",
              "    .colab-df-convert:hover {\n",
              "      background-color: #E2EBFA;\n",
              "      box-shadow: 0px 1px 2px rgba(60, 64, 67, 0.3), 0px 1px 3px 1px rgba(60, 64, 67, 0.15);\n",
              "      fill: #174EA6;\n",
              "    }\n",
              "\n",
              "    [theme=dark] .colab-df-convert {\n",
              "      background-color: #3B4455;\n",
              "      fill: #D2E3FC;\n",
              "    }\n",
              "\n",
              "    [theme=dark] .colab-df-convert:hover {\n",
              "      background-color: #434B5C;\n",
              "      box-shadow: 0px 1px 3px 1px rgba(0, 0, 0, 0.15);\n",
              "      filter: drop-shadow(0px 1px 2px rgba(0, 0, 0, 0.3));\n",
              "      fill: #FFFFFF;\n",
              "    }\n",
              "  </style>\n",
              "\n",
              "      <script>\n",
              "        const buttonEl =\n",
              "          document.querySelector('#df-87f8cd99-297a-4271-8a46-39e75a802771 button.colab-df-convert');\n",
              "        buttonEl.style.display =\n",
              "          google.colab.kernel.accessAllowed ? 'block' : 'none';\n",
              "\n",
              "        async function convertToInteractive(key) {\n",
              "          const element = document.querySelector('#df-87f8cd99-297a-4271-8a46-39e75a802771');\n",
              "          const dataTable =\n",
              "            await google.colab.kernel.invokeFunction('convertToInteractive',\n",
              "                                                     [key], {});\n",
              "          if (!dataTable) return;\n",
              "\n",
              "          const docLinkHtml = 'Like what you see? Visit the ' +\n",
              "            '<a target=\"_blank\" href=https://colab.research.google.com/notebooks/data_table.ipynb>data table notebook</a>'\n",
              "            + ' to learn more about interactive tables.';\n",
              "          element.innerHTML = '';\n",
              "          dataTable['output_type'] = 'display_data';\n",
              "          await google.colab.output.renderOutput(dataTable, element);\n",
              "          const docLink = document.createElement('div');\n",
              "          docLink.innerHTML = docLinkHtml;\n",
              "          element.appendChild(docLink);\n",
              "        }\n",
              "      </script>\n",
              "    </div>\n",
              "  </div>\n",
              "  "
            ]
          },
          "metadata": {},
          "execution_count": 75
        }
      ]
    },
    {
      "cell_type": "markdown",
      "source": [
        "Next up we want to merge those two datasets to use only one."
      ],
      "metadata": {
        "id": "fG_1KgMmMiU-"
      }
    },
    {
      "cell_type": "code",
      "source": [
        "air_stations_df.rename(columns = {'numero_station':'stationId'}, inplace=True)\n",
        "df = air_quality_df.merge(air_stations_df, on='stationId')\n",
        "df.head(5)"
      ],
      "metadata": {
        "colab": {
          "base_uri": "https://localhost:8080/",
          "height": 444
        },
        "id": "tXOsqZhWwzId",
        "outputId": "95d43a11-f25a-4848-9d4f-039f00ab894b"
      },
      "execution_count": 76,
      "outputs": [
        {
          "output_type": "execute_result",
          "data": {
            "text/plain": [
              "   stationId polluant  valeur        date  heure     SNPA  statut  \\\n",
              "0          3      NO2       1  2022-11-21      0  50103.0  ouvert   \n",
              "1          3       O3      18  2022-11-21      0  50103.0  ouvert   \n",
              "2          3       PM       5  2022-11-21      0  50103.0  ouvert   \n",
              "3          3      SO2       2  2022-11-21      0  50103.0  ouvert   \n",
              "4          3      NO2       1  2022-11-21      1  50103.0  ouvert   \n",
              "\n",
              "                    nom                   adresse  arrondissement_ville  \\\n",
              "0  Saint-Jean-Baptiste   1050 A, St-Jean-Baptiste  Rivière-des-Prairies   \n",
              "1  Saint-Jean-Baptiste   1050 A, St-Jean-Baptiste  Rivière-des-Prairies   \n",
              "2  Saint-Jean-Baptiste   1050 A, St-Jean-Baptiste  Rivière-des-Prairies   \n",
              "3  Saint-Jean-Baptiste   1050 A, St-Jean-Baptiste  Rivière-des-Prairies   \n",
              "4  Saint-Jean-Baptiste   1050 A, St-Jean-Baptiste  Rivière-des-Prairies   \n",
              "\n",
              "    latitude  longitude              X             Y  secteur_id secteur_nom  \\\n",
              "0  45.641026 -73.499682  304824.789662  5.055681e+06           4         Est   \n",
              "1  45.641026 -73.499682  304824.789662  5.055681e+06           4         Est   \n",
              "2  45.641026 -73.499682  304824.789662  5.055681e+06           4         Est   \n",
              "3  45.641026 -73.499682  304824.789662  5.055681e+06           4         Est   \n",
              "4  45.641026 -73.499682  304824.789662  5.055681e+06           4         Est   \n",
              "\n",
              "   hauteur  \n",
              "0      4.0  \n",
              "1      4.0  \n",
              "2      4.0  \n",
              "3      4.0  \n",
              "4      4.0  "
            ],
            "text/html": [
              "\n",
              "  <div id=\"df-c1450cd8-b435-4d5d-b59f-435f82e9172c\">\n",
              "    <div class=\"colab-df-container\">\n",
              "      <div>\n",
              "<style scoped>\n",
              "    .dataframe tbody tr th:only-of-type {\n",
              "        vertical-align: middle;\n",
              "    }\n",
              "\n",
              "    .dataframe tbody tr th {\n",
              "        vertical-align: top;\n",
              "    }\n",
              "\n",
              "    .dataframe thead th {\n",
              "        text-align: right;\n",
              "    }\n",
              "</style>\n",
              "<table border=\"1\" class=\"dataframe\">\n",
              "  <thead>\n",
              "    <tr style=\"text-align: right;\">\n",
              "      <th></th>\n",
              "      <th>stationId</th>\n",
              "      <th>polluant</th>\n",
              "      <th>valeur</th>\n",
              "      <th>date</th>\n",
              "      <th>heure</th>\n",
              "      <th>SNPA</th>\n",
              "      <th>statut</th>\n",
              "      <th>nom</th>\n",
              "      <th>adresse</th>\n",
              "      <th>arrondissement_ville</th>\n",
              "      <th>latitude</th>\n",
              "      <th>longitude</th>\n",
              "      <th>X</th>\n",
              "      <th>Y</th>\n",
              "      <th>secteur_id</th>\n",
              "      <th>secteur_nom</th>\n",
              "      <th>hauteur</th>\n",
              "    </tr>\n",
              "  </thead>\n",
              "  <tbody>\n",
              "    <tr>\n",
              "      <th>0</th>\n",
              "      <td>3</td>\n",
              "      <td>NO2</td>\n",
              "      <td>1</td>\n",
              "      <td>2022-11-21</td>\n",
              "      <td>0</td>\n",
              "      <td>50103.0</td>\n",
              "      <td>ouvert</td>\n",
              "      <td>Saint-Jean-Baptiste</td>\n",
              "      <td>1050 A, St-Jean-Baptiste</td>\n",
              "      <td>Rivière-des-Prairies</td>\n",
              "      <td>45.641026</td>\n",
              "      <td>-73.499682</td>\n",
              "      <td>304824.789662</td>\n",
              "      <td>5.055681e+06</td>\n",
              "      <td>4</td>\n",
              "      <td>Est</td>\n",
              "      <td>4.0</td>\n",
              "    </tr>\n",
              "    <tr>\n",
              "      <th>1</th>\n",
              "      <td>3</td>\n",
              "      <td>O3</td>\n",
              "      <td>18</td>\n",
              "      <td>2022-11-21</td>\n",
              "      <td>0</td>\n",
              "      <td>50103.0</td>\n",
              "      <td>ouvert</td>\n",
              "      <td>Saint-Jean-Baptiste</td>\n",
              "      <td>1050 A, St-Jean-Baptiste</td>\n",
              "      <td>Rivière-des-Prairies</td>\n",
              "      <td>45.641026</td>\n",
              "      <td>-73.499682</td>\n",
              "      <td>304824.789662</td>\n",
              "      <td>5.055681e+06</td>\n",
              "      <td>4</td>\n",
              "      <td>Est</td>\n",
              "      <td>4.0</td>\n",
              "    </tr>\n",
              "    <tr>\n",
              "      <th>2</th>\n",
              "      <td>3</td>\n",
              "      <td>PM</td>\n",
              "      <td>5</td>\n",
              "      <td>2022-11-21</td>\n",
              "      <td>0</td>\n",
              "      <td>50103.0</td>\n",
              "      <td>ouvert</td>\n",
              "      <td>Saint-Jean-Baptiste</td>\n",
              "      <td>1050 A, St-Jean-Baptiste</td>\n",
              "      <td>Rivière-des-Prairies</td>\n",
              "      <td>45.641026</td>\n",
              "      <td>-73.499682</td>\n",
              "      <td>304824.789662</td>\n",
              "      <td>5.055681e+06</td>\n",
              "      <td>4</td>\n",
              "      <td>Est</td>\n",
              "      <td>4.0</td>\n",
              "    </tr>\n",
              "    <tr>\n",
              "      <th>3</th>\n",
              "      <td>3</td>\n",
              "      <td>SO2</td>\n",
              "      <td>2</td>\n",
              "      <td>2022-11-21</td>\n",
              "      <td>0</td>\n",
              "      <td>50103.0</td>\n",
              "      <td>ouvert</td>\n",
              "      <td>Saint-Jean-Baptiste</td>\n",
              "      <td>1050 A, St-Jean-Baptiste</td>\n",
              "      <td>Rivière-des-Prairies</td>\n",
              "      <td>45.641026</td>\n",
              "      <td>-73.499682</td>\n",
              "      <td>304824.789662</td>\n",
              "      <td>5.055681e+06</td>\n",
              "      <td>4</td>\n",
              "      <td>Est</td>\n",
              "      <td>4.0</td>\n",
              "    </tr>\n",
              "    <tr>\n",
              "      <th>4</th>\n",
              "      <td>3</td>\n",
              "      <td>NO2</td>\n",
              "      <td>1</td>\n",
              "      <td>2022-11-21</td>\n",
              "      <td>1</td>\n",
              "      <td>50103.0</td>\n",
              "      <td>ouvert</td>\n",
              "      <td>Saint-Jean-Baptiste</td>\n",
              "      <td>1050 A, St-Jean-Baptiste</td>\n",
              "      <td>Rivière-des-Prairies</td>\n",
              "      <td>45.641026</td>\n",
              "      <td>-73.499682</td>\n",
              "      <td>304824.789662</td>\n",
              "      <td>5.055681e+06</td>\n",
              "      <td>4</td>\n",
              "      <td>Est</td>\n",
              "      <td>4.0</td>\n",
              "    </tr>\n",
              "  </tbody>\n",
              "</table>\n",
              "</div>\n",
              "      <button class=\"colab-df-convert\" onclick=\"convertToInteractive('df-c1450cd8-b435-4d5d-b59f-435f82e9172c')\"\n",
              "              title=\"Convert this dataframe to an interactive table.\"\n",
              "              style=\"display:none;\">\n",
              "        \n",
              "  <svg xmlns=\"http://www.w3.org/2000/svg\" height=\"24px\"viewBox=\"0 0 24 24\"\n",
              "       width=\"24px\">\n",
              "    <path d=\"M0 0h24v24H0V0z\" fill=\"none\"/>\n",
              "    <path d=\"M18.56 5.44l.94 2.06.94-2.06 2.06-.94-2.06-.94-.94-2.06-.94 2.06-2.06.94zm-11 1L8.5 8.5l.94-2.06 2.06-.94-2.06-.94L8.5 2.5l-.94 2.06-2.06.94zm10 10l.94 2.06.94-2.06 2.06-.94-2.06-.94-.94-2.06-.94 2.06-2.06.94z\"/><path d=\"M17.41 7.96l-1.37-1.37c-.4-.4-.92-.59-1.43-.59-.52 0-1.04.2-1.43.59L10.3 9.45l-7.72 7.72c-.78.78-.78 2.05 0 2.83L4 21.41c.39.39.9.59 1.41.59.51 0 1.02-.2 1.41-.59l7.78-7.78 2.81-2.81c.8-.78.8-2.07 0-2.86zM5.41 20L4 18.59l7.72-7.72 1.47 1.35L5.41 20z\"/>\n",
              "  </svg>\n",
              "      </button>\n",
              "      \n",
              "  <style>\n",
              "    .colab-df-container {\n",
              "      display:flex;\n",
              "      flex-wrap:wrap;\n",
              "      gap: 12px;\n",
              "    }\n",
              "\n",
              "    .colab-df-convert {\n",
              "      background-color: #E8F0FE;\n",
              "      border: none;\n",
              "      border-radius: 50%;\n",
              "      cursor: pointer;\n",
              "      display: none;\n",
              "      fill: #1967D2;\n",
              "      height: 32px;\n",
              "      padding: 0 0 0 0;\n",
              "      width: 32px;\n",
              "    }\n",
              "\n",
              "    .colab-df-convert:hover {\n",
              "      background-color: #E2EBFA;\n",
              "      box-shadow: 0px 1px 2px rgba(60, 64, 67, 0.3), 0px 1px 3px 1px rgba(60, 64, 67, 0.15);\n",
              "      fill: #174EA6;\n",
              "    }\n",
              "\n",
              "    [theme=dark] .colab-df-convert {\n",
              "      background-color: #3B4455;\n",
              "      fill: #D2E3FC;\n",
              "    }\n",
              "\n",
              "    [theme=dark] .colab-df-convert:hover {\n",
              "      background-color: #434B5C;\n",
              "      box-shadow: 0px 1px 3px 1px rgba(0, 0, 0, 0.15);\n",
              "      filter: drop-shadow(0px 1px 2px rgba(0, 0, 0, 0.3));\n",
              "      fill: #FFFFFF;\n",
              "    }\n",
              "  </style>\n",
              "\n",
              "      <script>\n",
              "        const buttonEl =\n",
              "          document.querySelector('#df-c1450cd8-b435-4d5d-b59f-435f82e9172c button.colab-df-convert');\n",
              "        buttonEl.style.display =\n",
              "          google.colab.kernel.accessAllowed ? 'block' : 'none';\n",
              "\n",
              "        async function convertToInteractive(key) {\n",
              "          const element = document.querySelector('#df-c1450cd8-b435-4d5d-b59f-435f82e9172c');\n",
              "          const dataTable =\n",
              "            await google.colab.kernel.invokeFunction('convertToInteractive',\n",
              "                                                     [key], {});\n",
              "          if (!dataTable) return;\n",
              "\n",
              "          const docLinkHtml = 'Like what you see? Visit the ' +\n",
              "            '<a target=\"_blank\" href=https://colab.research.google.com/notebooks/data_table.ipynb>data table notebook</a>'\n",
              "            + ' to learn more about interactive tables.';\n",
              "          element.innerHTML = '';\n",
              "          dataTable['output_type'] = 'display_data';\n",
              "          await google.colab.output.renderOutput(dataTable, element);\n",
              "          const docLink = document.createElement('div');\n",
              "          docLink.innerHTML = docLinkHtml;\n",
              "          element.appendChild(docLink);\n",
              "        }\n",
              "      </script>\n",
              "    </div>\n",
              "  </div>\n",
              "  "
            ]
          },
          "metadata": {},
          "execution_count": 76
        }
      ]
    },
    {
      "cell_type": "code",
      "source": [
        "df.shape"
      ],
      "metadata": {
        "colab": {
          "base_uri": "https://localhost:8080/"
        },
        "id": "0kl2oE4jNYKO",
        "outputId": "43acd2fa-f059-4c8e-e35e-16a65c228fb0"
      },
      "execution_count": 77,
      "outputs": [
        {
          "output_type": "execute_result",
          "data": {
            "text/plain": [
              "(609, 17)"
            ]
          },
          "metadata": {},
          "execution_count": 77
        }
      ]
    },
    {
      "cell_type": "markdown",
      "source": [
        "So we have 17 columns. However, we won't use all of them in the prediction of air quality. We will drop of few that we judge unnecessary for our study."
      ],
      "metadata": {
        "id": "grYlDbdWN5cj"
      }
    },
    {
      "cell_type": "markdown",
      "source": [
        "##Applying Pre-Processing Techniques"
      ],
      "metadata": {
        "id": "FGr6VCCpR6K3"
      }
    },
    {
      "cell_type": "code",
      "source": [
        "df.info()"
      ],
      "metadata": {
        "colab": {
          "base_uri": "https://localhost:8080/"
        },
        "id": "rJratCjkPScU",
        "outputId": "7e33e837-a293-42bc-8dc0-872d0051ddc9"
      },
      "execution_count": 78,
      "outputs": [
        {
          "output_type": "stream",
          "name": "stdout",
          "text": [
            "<class 'pandas.core.frame.DataFrame'>\n",
            "Int64Index: 609 entries, 0 to 608\n",
            "Data columns (total 17 columns):\n",
            " #   Column                Non-Null Count  Dtype  \n",
            "---  ------                --------------  -----  \n",
            " 0   stationId             609 non-null    int64  \n",
            " 1   polluant              609 non-null    object \n",
            " 2   valeur                609 non-null    int64  \n",
            " 3   date                  609 non-null    object \n",
            " 4   heure                 609 non-null    int64  \n",
            " 5   SNPA                  609 non-null    float64\n",
            " 6   statut                609 non-null    object \n",
            " 7   nom                   609 non-null    object \n",
            " 8   adresse               609 non-null    object \n",
            " 9   arrondissement_ville  609 non-null    object \n",
            " 10  latitude              609 non-null    float64\n",
            " 11  longitude             609 non-null    float64\n",
            " 12  X                     609 non-null    float64\n",
            " 13  Y                     609 non-null    float64\n",
            " 14  secteur_id            609 non-null    int64  \n",
            " 15  secteur_nom           609 non-null    object \n",
            " 16  hauteur               609 non-null    float64\n",
            "dtypes: float64(6), int64(4), object(7)\n",
            "memory usage: 85.6+ KB\n"
          ]
        }
      ]
    },
    {
      "cell_type": "code",
      "source": [
        "df = df.drop(columns=['SNPA','statut','nom','latitude','longitude','X','Y','secteur_id','adresse','date'])"
      ],
      "metadata": {
        "id": "dKZYgXT9Qm9I"
      },
      "execution_count": 79,
      "outputs": []
    },
    {
      "cell_type": "code",
      "source": [
        "df.head(10)"
      ],
      "metadata": {
        "colab": {
          "base_uri": "https://localhost:8080/",
          "height": 363
        },
        "id": "o19kl4mdRlhu",
        "outputId": "3ddc0e4e-fdb9-49ef-b538-b0375958c2e4"
      },
      "execution_count": 80,
      "outputs": [
        {
          "output_type": "execute_result",
          "data": {
            "text/plain": [
              "   stationId polluant  valeur  heure  arrondissement_ville secteur_nom  \\\n",
              "0          3      NO2       1      0  Rivière-des-Prairies         Est   \n",
              "1          3       O3      18      0  Rivière-des-Prairies         Est   \n",
              "2          3       PM       5      0  Rivière-des-Prairies         Est   \n",
              "3          3      SO2       2      0  Rivière-des-Prairies         Est   \n",
              "4          3      NO2       1      1  Rivière-des-Prairies         Est   \n",
              "5          3       O3      18      1  Rivière-des-Prairies         Est   \n",
              "6          3       PM       4      1  Rivière-des-Prairies         Est   \n",
              "7          3      SO2       1      1  Rivière-des-Prairies         Est   \n",
              "8          3      NO2       1      2  Rivière-des-Prairies         Est   \n",
              "9          3       O3      17      2  Rivière-des-Prairies         Est   \n",
              "\n",
              "   hauteur  \n",
              "0      4.0  \n",
              "1      4.0  \n",
              "2      4.0  \n",
              "3      4.0  \n",
              "4      4.0  \n",
              "5      4.0  \n",
              "6      4.0  \n",
              "7      4.0  \n",
              "8      4.0  \n",
              "9      4.0  "
            ],
            "text/html": [
              "\n",
              "  <div id=\"df-f813371c-e96b-4756-833e-a98c79ccfad7\">\n",
              "    <div class=\"colab-df-container\">\n",
              "      <div>\n",
              "<style scoped>\n",
              "    .dataframe tbody tr th:only-of-type {\n",
              "        vertical-align: middle;\n",
              "    }\n",
              "\n",
              "    .dataframe tbody tr th {\n",
              "        vertical-align: top;\n",
              "    }\n",
              "\n",
              "    .dataframe thead th {\n",
              "        text-align: right;\n",
              "    }\n",
              "</style>\n",
              "<table border=\"1\" class=\"dataframe\">\n",
              "  <thead>\n",
              "    <tr style=\"text-align: right;\">\n",
              "      <th></th>\n",
              "      <th>stationId</th>\n",
              "      <th>polluant</th>\n",
              "      <th>valeur</th>\n",
              "      <th>heure</th>\n",
              "      <th>arrondissement_ville</th>\n",
              "      <th>secteur_nom</th>\n",
              "      <th>hauteur</th>\n",
              "    </tr>\n",
              "  </thead>\n",
              "  <tbody>\n",
              "    <tr>\n",
              "      <th>0</th>\n",
              "      <td>3</td>\n",
              "      <td>NO2</td>\n",
              "      <td>1</td>\n",
              "      <td>0</td>\n",
              "      <td>Rivière-des-Prairies</td>\n",
              "      <td>Est</td>\n",
              "      <td>4.0</td>\n",
              "    </tr>\n",
              "    <tr>\n",
              "      <th>1</th>\n",
              "      <td>3</td>\n",
              "      <td>O3</td>\n",
              "      <td>18</td>\n",
              "      <td>0</td>\n",
              "      <td>Rivière-des-Prairies</td>\n",
              "      <td>Est</td>\n",
              "      <td>4.0</td>\n",
              "    </tr>\n",
              "    <tr>\n",
              "      <th>2</th>\n",
              "      <td>3</td>\n",
              "      <td>PM</td>\n",
              "      <td>5</td>\n",
              "      <td>0</td>\n",
              "      <td>Rivière-des-Prairies</td>\n",
              "      <td>Est</td>\n",
              "      <td>4.0</td>\n",
              "    </tr>\n",
              "    <tr>\n",
              "      <th>3</th>\n",
              "      <td>3</td>\n",
              "      <td>SO2</td>\n",
              "      <td>2</td>\n",
              "      <td>0</td>\n",
              "      <td>Rivière-des-Prairies</td>\n",
              "      <td>Est</td>\n",
              "      <td>4.0</td>\n",
              "    </tr>\n",
              "    <tr>\n",
              "      <th>4</th>\n",
              "      <td>3</td>\n",
              "      <td>NO2</td>\n",
              "      <td>1</td>\n",
              "      <td>1</td>\n",
              "      <td>Rivière-des-Prairies</td>\n",
              "      <td>Est</td>\n",
              "      <td>4.0</td>\n",
              "    </tr>\n",
              "    <tr>\n",
              "      <th>5</th>\n",
              "      <td>3</td>\n",
              "      <td>O3</td>\n",
              "      <td>18</td>\n",
              "      <td>1</td>\n",
              "      <td>Rivière-des-Prairies</td>\n",
              "      <td>Est</td>\n",
              "      <td>4.0</td>\n",
              "    </tr>\n",
              "    <tr>\n",
              "      <th>6</th>\n",
              "      <td>3</td>\n",
              "      <td>PM</td>\n",
              "      <td>4</td>\n",
              "      <td>1</td>\n",
              "      <td>Rivière-des-Prairies</td>\n",
              "      <td>Est</td>\n",
              "      <td>4.0</td>\n",
              "    </tr>\n",
              "    <tr>\n",
              "      <th>7</th>\n",
              "      <td>3</td>\n",
              "      <td>SO2</td>\n",
              "      <td>1</td>\n",
              "      <td>1</td>\n",
              "      <td>Rivière-des-Prairies</td>\n",
              "      <td>Est</td>\n",
              "      <td>4.0</td>\n",
              "    </tr>\n",
              "    <tr>\n",
              "      <th>8</th>\n",
              "      <td>3</td>\n",
              "      <td>NO2</td>\n",
              "      <td>1</td>\n",
              "      <td>2</td>\n",
              "      <td>Rivière-des-Prairies</td>\n",
              "      <td>Est</td>\n",
              "      <td>4.0</td>\n",
              "    </tr>\n",
              "    <tr>\n",
              "      <th>9</th>\n",
              "      <td>3</td>\n",
              "      <td>O3</td>\n",
              "      <td>17</td>\n",
              "      <td>2</td>\n",
              "      <td>Rivière-des-Prairies</td>\n",
              "      <td>Est</td>\n",
              "      <td>4.0</td>\n",
              "    </tr>\n",
              "  </tbody>\n",
              "</table>\n",
              "</div>\n",
              "      <button class=\"colab-df-convert\" onclick=\"convertToInteractive('df-f813371c-e96b-4756-833e-a98c79ccfad7')\"\n",
              "              title=\"Convert this dataframe to an interactive table.\"\n",
              "              style=\"display:none;\">\n",
              "        \n",
              "  <svg xmlns=\"http://www.w3.org/2000/svg\" height=\"24px\"viewBox=\"0 0 24 24\"\n",
              "       width=\"24px\">\n",
              "    <path d=\"M0 0h24v24H0V0z\" fill=\"none\"/>\n",
              "    <path d=\"M18.56 5.44l.94 2.06.94-2.06 2.06-.94-2.06-.94-.94-2.06-.94 2.06-2.06.94zm-11 1L8.5 8.5l.94-2.06 2.06-.94-2.06-.94L8.5 2.5l-.94 2.06-2.06.94zm10 10l.94 2.06.94-2.06 2.06-.94-2.06-.94-.94-2.06-.94 2.06-2.06.94z\"/><path d=\"M17.41 7.96l-1.37-1.37c-.4-.4-.92-.59-1.43-.59-.52 0-1.04.2-1.43.59L10.3 9.45l-7.72 7.72c-.78.78-.78 2.05 0 2.83L4 21.41c.39.39.9.59 1.41.59.51 0 1.02-.2 1.41-.59l7.78-7.78 2.81-2.81c.8-.78.8-2.07 0-2.86zM5.41 20L4 18.59l7.72-7.72 1.47 1.35L5.41 20z\"/>\n",
              "  </svg>\n",
              "      </button>\n",
              "      \n",
              "  <style>\n",
              "    .colab-df-container {\n",
              "      display:flex;\n",
              "      flex-wrap:wrap;\n",
              "      gap: 12px;\n",
              "    }\n",
              "\n",
              "    .colab-df-convert {\n",
              "      background-color: #E8F0FE;\n",
              "      border: none;\n",
              "      border-radius: 50%;\n",
              "      cursor: pointer;\n",
              "      display: none;\n",
              "      fill: #1967D2;\n",
              "      height: 32px;\n",
              "      padding: 0 0 0 0;\n",
              "      width: 32px;\n",
              "    }\n",
              "\n",
              "    .colab-df-convert:hover {\n",
              "      background-color: #E2EBFA;\n",
              "      box-shadow: 0px 1px 2px rgba(60, 64, 67, 0.3), 0px 1px 3px 1px rgba(60, 64, 67, 0.15);\n",
              "      fill: #174EA6;\n",
              "    }\n",
              "\n",
              "    [theme=dark] .colab-df-convert {\n",
              "      background-color: #3B4455;\n",
              "      fill: #D2E3FC;\n",
              "    }\n",
              "\n",
              "    [theme=dark] .colab-df-convert:hover {\n",
              "      background-color: #434B5C;\n",
              "      box-shadow: 0px 1px 3px 1px rgba(0, 0, 0, 0.15);\n",
              "      filter: drop-shadow(0px 1px 2px rgba(0, 0, 0, 0.3));\n",
              "      fill: #FFFFFF;\n",
              "    }\n",
              "  </style>\n",
              "\n",
              "      <script>\n",
              "        const buttonEl =\n",
              "          document.querySelector('#df-f813371c-e96b-4756-833e-a98c79ccfad7 button.colab-df-convert');\n",
              "        buttonEl.style.display =\n",
              "          google.colab.kernel.accessAllowed ? 'block' : 'none';\n",
              "\n",
              "        async function convertToInteractive(key) {\n",
              "          const element = document.querySelector('#df-f813371c-e96b-4756-833e-a98c79ccfad7');\n",
              "          const dataTable =\n",
              "            await google.colab.kernel.invokeFunction('convertToInteractive',\n",
              "                                                     [key], {});\n",
              "          if (!dataTable) return;\n",
              "\n",
              "          const docLinkHtml = 'Like what you see? Visit the ' +\n",
              "            '<a target=\"_blank\" href=https://colab.research.google.com/notebooks/data_table.ipynb>data table notebook</a>'\n",
              "            + ' to learn more about interactive tables.';\n",
              "          element.innerHTML = '';\n",
              "          dataTable['output_type'] = 'display_data';\n",
              "          await google.colab.output.renderOutput(dataTable, element);\n",
              "          const docLink = document.createElement('div');\n",
              "          docLink.innerHTML = docLinkHtml;\n",
              "          element.appendChild(docLink);\n",
              "        }\n",
              "      </script>\n",
              "    </div>\n",
              "  </div>\n",
              "  "
            ]
          },
          "metadata": {},
          "execution_count": 80
        }
      ]
    },
    {
      "cell_type": "code",
      "source": [
        "df['arrondissement_ville'].unique()\n"
      ],
      "metadata": {
        "colab": {
          "base_uri": "https://localhost:8080/"
        },
        "id": "mDM9sGO59YUj",
        "outputId": "8c9e6550-f4bd-4d06-9764-9a53669c52b9"
      },
      "execution_count": 81,
      "outputs": [
        {
          "output_type": "execute_result",
          "data": {
            "text/plain": [
              "array(['Rivière-des-Prairies', 'Anjou', 'Montréal-Nord', 'Mont-Royal',\n",
              "       'Ville-Marie', 'Hochelaga-Maisonneuve', 'Dorval',\n",
              "       'Rosemont-La Petite-Patrie', 'Sainte-Anne-de-Bellevue',\n",
              "       'Sud-Ouest'], dtype=object)"
            ]
          },
          "metadata": {},
          "execution_count": 81
        }
      ]
    },
    {
      "cell_type": "code",
      "source": [
        "df.shape"
      ],
      "metadata": {
        "colab": {
          "base_uri": "https://localhost:8080/"
        },
        "id": "K4WLS8jXRwGZ",
        "outputId": "6bf3eb76-b125-4b7d-ac14-64926d618b6f"
      },
      "execution_count": 82,
      "outputs": [
        {
          "output_type": "execute_result",
          "data": {
            "text/plain": [
              "(609, 7)"
            ]
          },
          "metadata": {},
          "execution_count": 82
        }
      ]
    },
    {
      "cell_type": "markdown",
      "source": [
        "We now have 9 columns that are usable."
      ],
      "metadata": {
        "id": "Gyq5N_LBSCTq"
      }
    },
    {
      "cell_type": "markdown",
      "source": [
        "Now, let's check if there is any null values."
      ],
      "metadata": {
        "id": "7CcvGHSh3WKq"
      }
    },
    {
      "cell_type": "code",
      "source": [
        "df.isnull().values.any()"
      ],
      "metadata": {
        "colab": {
          "base_uri": "https://localhost:8080/"
        },
        "id": "EXvZS-jW3abY",
        "outputId": "3b0a06bf-3d78-4139-ac7a-5dfece8d9fe5"
      },
      "execution_count": 83,
      "outputs": [
        {
          "output_type": "execute_result",
          "data": {
            "text/plain": [
              "False"
            ]
          },
          "metadata": {},
          "execution_count": 83
        }
      ]
    },
    {
      "cell_type": "markdown",
      "source": [
        "Let's check for correlation between values."
      ],
      "metadata": {
        "id": "CIf9GHoC4jRb"
      }
    },
    {
      "cell_type": "code",
      "source": [
        "df.corr()"
      ],
      "metadata": {
        "colab": {
          "base_uri": "https://localhost:8080/",
          "height": 175
        },
        "id": "D41nIRGe4SFh",
        "outputId": "71fd7c7e-1587-49f2-90da-ba66848c1f92"
      },
      "execution_count": 84,
      "outputs": [
        {
          "output_type": "execute_result",
          "data": {
            "text/plain": [
              "           stationId    valeur     heure   hauteur\n",
              "stationId   1.000000  0.081620  0.013542 -0.304881\n",
              "valeur      0.081620  1.000000  0.067270 -0.102317\n",
              "heure       0.013542  0.067270  1.000000  0.008972\n",
              "hauteur    -0.304881 -0.102317  0.008972  1.000000"
            ],
            "text/html": [
              "\n",
              "  <div id=\"df-e66f96e0-8165-4571-b31d-7e3aa765dea7\">\n",
              "    <div class=\"colab-df-container\">\n",
              "      <div>\n",
              "<style scoped>\n",
              "    .dataframe tbody tr th:only-of-type {\n",
              "        vertical-align: middle;\n",
              "    }\n",
              "\n",
              "    .dataframe tbody tr th {\n",
              "        vertical-align: top;\n",
              "    }\n",
              "\n",
              "    .dataframe thead th {\n",
              "        text-align: right;\n",
              "    }\n",
              "</style>\n",
              "<table border=\"1\" class=\"dataframe\">\n",
              "  <thead>\n",
              "    <tr style=\"text-align: right;\">\n",
              "      <th></th>\n",
              "      <th>stationId</th>\n",
              "      <th>valeur</th>\n",
              "      <th>heure</th>\n",
              "      <th>hauteur</th>\n",
              "    </tr>\n",
              "  </thead>\n",
              "  <tbody>\n",
              "    <tr>\n",
              "      <th>stationId</th>\n",
              "      <td>1.000000</td>\n",
              "      <td>0.081620</td>\n",
              "      <td>0.013542</td>\n",
              "      <td>-0.304881</td>\n",
              "    </tr>\n",
              "    <tr>\n",
              "      <th>valeur</th>\n",
              "      <td>0.081620</td>\n",
              "      <td>1.000000</td>\n",
              "      <td>0.067270</td>\n",
              "      <td>-0.102317</td>\n",
              "    </tr>\n",
              "    <tr>\n",
              "      <th>heure</th>\n",
              "      <td>0.013542</td>\n",
              "      <td>0.067270</td>\n",
              "      <td>1.000000</td>\n",
              "      <td>0.008972</td>\n",
              "    </tr>\n",
              "    <tr>\n",
              "      <th>hauteur</th>\n",
              "      <td>-0.304881</td>\n",
              "      <td>-0.102317</td>\n",
              "      <td>0.008972</td>\n",
              "      <td>1.000000</td>\n",
              "    </tr>\n",
              "  </tbody>\n",
              "</table>\n",
              "</div>\n",
              "      <button class=\"colab-df-convert\" onclick=\"convertToInteractive('df-e66f96e0-8165-4571-b31d-7e3aa765dea7')\"\n",
              "              title=\"Convert this dataframe to an interactive table.\"\n",
              "              style=\"display:none;\">\n",
              "        \n",
              "  <svg xmlns=\"http://www.w3.org/2000/svg\" height=\"24px\"viewBox=\"0 0 24 24\"\n",
              "       width=\"24px\">\n",
              "    <path d=\"M0 0h24v24H0V0z\" fill=\"none\"/>\n",
              "    <path d=\"M18.56 5.44l.94 2.06.94-2.06 2.06-.94-2.06-.94-.94-2.06-.94 2.06-2.06.94zm-11 1L8.5 8.5l.94-2.06 2.06-.94-2.06-.94L8.5 2.5l-.94 2.06-2.06.94zm10 10l.94 2.06.94-2.06 2.06-.94-2.06-.94-.94-2.06-.94 2.06-2.06.94z\"/><path d=\"M17.41 7.96l-1.37-1.37c-.4-.4-.92-.59-1.43-.59-.52 0-1.04.2-1.43.59L10.3 9.45l-7.72 7.72c-.78.78-.78 2.05 0 2.83L4 21.41c.39.39.9.59 1.41.59.51 0 1.02-.2 1.41-.59l7.78-7.78 2.81-2.81c.8-.78.8-2.07 0-2.86zM5.41 20L4 18.59l7.72-7.72 1.47 1.35L5.41 20z\"/>\n",
              "  </svg>\n",
              "      </button>\n",
              "      \n",
              "  <style>\n",
              "    .colab-df-container {\n",
              "      display:flex;\n",
              "      flex-wrap:wrap;\n",
              "      gap: 12px;\n",
              "    }\n",
              "\n",
              "    .colab-df-convert {\n",
              "      background-color: #E8F0FE;\n",
              "      border: none;\n",
              "      border-radius: 50%;\n",
              "      cursor: pointer;\n",
              "      display: none;\n",
              "      fill: #1967D2;\n",
              "      height: 32px;\n",
              "      padding: 0 0 0 0;\n",
              "      width: 32px;\n",
              "    }\n",
              "\n",
              "    .colab-df-convert:hover {\n",
              "      background-color: #E2EBFA;\n",
              "      box-shadow: 0px 1px 2px rgba(60, 64, 67, 0.3), 0px 1px 3px 1px rgba(60, 64, 67, 0.15);\n",
              "      fill: #174EA6;\n",
              "    }\n",
              "\n",
              "    [theme=dark] .colab-df-convert {\n",
              "      background-color: #3B4455;\n",
              "      fill: #D2E3FC;\n",
              "    }\n",
              "\n",
              "    [theme=dark] .colab-df-convert:hover {\n",
              "      background-color: #434B5C;\n",
              "      box-shadow: 0px 1px 3px 1px rgba(0, 0, 0, 0.15);\n",
              "      filter: drop-shadow(0px 1px 2px rgba(0, 0, 0, 0.3));\n",
              "      fill: #FFFFFF;\n",
              "    }\n",
              "  </style>\n",
              "\n",
              "      <script>\n",
              "        const buttonEl =\n",
              "          document.querySelector('#df-e66f96e0-8165-4571-b31d-7e3aa765dea7 button.colab-df-convert');\n",
              "        buttonEl.style.display =\n",
              "          google.colab.kernel.accessAllowed ? 'block' : 'none';\n",
              "\n",
              "        async function convertToInteractive(key) {\n",
              "          const element = document.querySelector('#df-e66f96e0-8165-4571-b31d-7e3aa765dea7');\n",
              "          const dataTable =\n",
              "            await google.colab.kernel.invokeFunction('convertToInteractive',\n",
              "                                                     [key], {});\n",
              "          if (!dataTable) return;\n",
              "\n",
              "          const docLinkHtml = 'Like what you see? Visit the ' +\n",
              "            '<a target=\"_blank\" href=https://colab.research.google.com/notebooks/data_table.ipynb>data table notebook</a>'\n",
              "            + ' to learn more about interactive tables.';\n",
              "          element.innerHTML = '';\n",
              "          dataTable['output_type'] = 'display_data';\n",
              "          await google.colab.output.renderOutput(dataTable, element);\n",
              "          const docLink = document.createElement('div');\n",
              "          docLink.innerHTML = docLinkHtml;\n",
              "          element.appendChild(docLink);\n",
              "        }\n",
              "      </script>\n",
              "    </div>\n",
              "  </div>\n",
              "  "
            ]
          },
          "metadata": {},
          "execution_count": 84
        }
      ]
    },
    {
      "cell_type": "markdown",
      "source": [
        "There are no correlation between values, we can continue with this data."
      ],
      "metadata": {
        "id": "_m0_93zm5vvg"
      }
    },
    {
      "cell_type": "markdown",
      "source": [
        "Let's change categorical data into discrete data."
      ],
      "metadata": {
        "id": "rXFwgvzH_B_Z"
      }
    },
    {
      "cell_type": "code",
      "source": [
        "df['secteur_nom'].unique()"
      ],
      "metadata": {
        "colab": {
          "base_uri": "https://localhost:8080/"
        },
        "id": "RFY_xcU8-hqP",
        "outputId": "2e971606-c1a6-4ecb-b0e5-132fb52446f0"
      },
      "execution_count": 85,
      "outputs": [
        {
          "output_type": "execute_result",
          "data": {
            "text/plain": [
              "array(['Est', 'Nord', 'Centre-Ville', 'Ouest'], dtype=object)"
            ]
          },
          "metadata": {},
          "execution_count": 85
        }
      ]
    },
    {
      "cell_type": "code",
      "source": [
        "df['arrondissement_ville'].unique()\n"
      ],
      "metadata": {
        "colab": {
          "base_uri": "https://localhost:8080/"
        },
        "outputId": "8c5420d7-3d5d-4933-a139-48508b91afed",
        "id": "QhnnEBD4--uY"
      },
      "execution_count": 86,
      "outputs": [
        {
          "output_type": "execute_result",
          "data": {
            "text/plain": [
              "array(['Rivière-des-Prairies', 'Anjou', 'Montréal-Nord', 'Mont-Royal',\n",
              "       'Ville-Marie', 'Hochelaga-Maisonneuve', 'Dorval',\n",
              "       'Rosemont-La Petite-Patrie', 'Sainte-Anne-de-Bellevue',\n",
              "       'Sud-Ouest'], dtype=object)"
            ]
          },
          "metadata": {},
          "execution_count": 86
        }
      ]
    },
    {
      "cell_type": "code",
      "source": [
        "training_df = df.replace(['Est','Nord', 'Centre-Ville', 'Ouest','Rivière-des-Prairies', 'Anjou', 'Montréal-Nord', 'Mont-Royal',\n",
        "       'Ville-Marie', 'Hochelaga-Maisonneuve', 'Dorval',\n",
        "       'Rosemont-La Petite-Patrie', 'Sainte-Anne-de-Bellevue',\n",
        "       'Sud-Ouest','NO2', 'O3', 'PM', 'SO2', 'CO'], [1, 2, 3, 4, 1, 2, 3, 4, 5, 6, 7, 8, 9, 10, 1, 2, 3, 4, 5])\n",
        "training_df"
      ],
      "metadata": {
        "colab": {
          "base_uri": "https://localhost:8080/",
          "height": 424
        },
        "id": "01UPz0-Q_qoG",
        "outputId": "27206e5f-672d-49fc-8d2c-043beba5779c"
      },
      "execution_count": 87,
      "outputs": [
        {
          "output_type": "execute_result",
          "data": {
            "text/plain": [
              "     stationId  polluant  valeur  heure  arrondissement_ville  secteur_nom  \\\n",
              "0            3         1       1      0                     1            1   \n",
              "1            3         2      18      0                     1            1   \n",
              "2            3         3       5      0                     1            1   \n",
              "3            3         4       2      0                     1            1   \n",
              "4            3         1       1      1                     1            1   \n",
              "..         ...       ...     ...    ...                   ...          ...   \n",
              "604        103         2      19     13                    10            3   \n",
              "605        103         3       7     13                    10            3   \n",
              "606        103         1       1     14                    10            3   \n",
              "607        103         2      19     14                    10            3   \n",
              "608        103         3       7     14                    10            3   \n",
              "\n",
              "     hauteur  \n",
              "0        4.0  \n",
              "1        4.0  \n",
              "2        4.0  \n",
              "3        4.0  \n",
              "4        4.0  \n",
              "..       ...  \n",
              "604      4.0  \n",
              "605      4.0  \n",
              "606      4.0  \n",
              "607      4.0  \n",
              "608      4.0  \n",
              "\n",
              "[609 rows x 7 columns]"
            ],
            "text/html": [
              "\n",
              "  <div id=\"df-5bafe890-0d7c-41fb-bb19-08ce6588e48b\">\n",
              "    <div class=\"colab-df-container\">\n",
              "      <div>\n",
              "<style scoped>\n",
              "    .dataframe tbody tr th:only-of-type {\n",
              "        vertical-align: middle;\n",
              "    }\n",
              "\n",
              "    .dataframe tbody tr th {\n",
              "        vertical-align: top;\n",
              "    }\n",
              "\n",
              "    .dataframe thead th {\n",
              "        text-align: right;\n",
              "    }\n",
              "</style>\n",
              "<table border=\"1\" class=\"dataframe\">\n",
              "  <thead>\n",
              "    <tr style=\"text-align: right;\">\n",
              "      <th></th>\n",
              "      <th>stationId</th>\n",
              "      <th>polluant</th>\n",
              "      <th>valeur</th>\n",
              "      <th>heure</th>\n",
              "      <th>arrondissement_ville</th>\n",
              "      <th>secteur_nom</th>\n",
              "      <th>hauteur</th>\n",
              "    </tr>\n",
              "  </thead>\n",
              "  <tbody>\n",
              "    <tr>\n",
              "      <th>0</th>\n",
              "      <td>3</td>\n",
              "      <td>1</td>\n",
              "      <td>1</td>\n",
              "      <td>0</td>\n",
              "      <td>1</td>\n",
              "      <td>1</td>\n",
              "      <td>4.0</td>\n",
              "    </tr>\n",
              "    <tr>\n",
              "      <th>1</th>\n",
              "      <td>3</td>\n",
              "      <td>2</td>\n",
              "      <td>18</td>\n",
              "      <td>0</td>\n",
              "      <td>1</td>\n",
              "      <td>1</td>\n",
              "      <td>4.0</td>\n",
              "    </tr>\n",
              "    <tr>\n",
              "      <th>2</th>\n",
              "      <td>3</td>\n",
              "      <td>3</td>\n",
              "      <td>5</td>\n",
              "      <td>0</td>\n",
              "      <td>1</td>\n",
              "      <td>1</td>\n",
              "      <td>4.0</td>\n",
              "    </tr>\n",
              "    <tr>\n",
              "      <th>3</th>\n",
              "      <td>3</td>\n",
              "      <td>4</td>\n",
              "      <td>2</td>\n",
              "      <td>0</td>\n",
              "      <td>1</td>\n",
              "      <td>1</td>\n",
              "      <td>4.0</td>\n",
              "    </tr>\n",
              "    <tr>\n",
              "      <th>4</th>\n",
              "      <td>3</td>\n",
              "      <td>1</td>\n",
              "      <td>1</td>\n",
              "      <td>1</td>\n",
              "      <td>1</td>\n",
              "      <td>1</td>\n",
              "      <td>4.0</td>\n",
              "    </tr>\n",
              "    <tr>\n",
              "      <th>...</th>\n",
              "      <td>...</td>\n",
              "      <td>...</td>\n",
              "      <td>...</td>\n",
              "      <td>...</td>\n",
              "      <td>...</td>\n",
              "      <td>...</td>\n",
              "      <td>...</td>\n",
              "    </tr>\n",
              "    <tr>\n",
              "      <th>604</th>\n",
              "      <td>103</td>\n",
              "      <td>2</td>\n",
              "      <td>19</td>\n",
              "      <td>13</td>\n",
              "      <td>10</td>\n",
              "      <td>3</td>\n",
              "      <td>4.0</td>\n",
              "    </tr>\n",
              "    <tr>\n",
              "      <th>605</th>\n",
              "      <td>103</td>\n",
              "      <td>3</td>\n",
              "      <td>7</td>\n",
              "      <td>13</td>\n",
              "      <td>10</td>\n",
              "      <td>3</td>\n",
              "      <td>4.0</td>\n",
              "    </tr>\n",
              "    <tr>\n",
              "      <th>606</th>\n",
              "      <td>103</td>\n",
              "      <td>1</td>\n",
              "      <td>1</td>\n",
              "      <td>14</td>\n",
              "      <td>10</td>\n",
              "      <td>3</td>\n",
              "      <td>4.0</td>\n",
              "    </tr>\n",
              "    <tr>\n",
              "      <th>607</th>\n",
              "      <td>103</td>\n",
              "      <td>2</td>\n",
              "      <td>19</td>\n",
              "      <td>14</td>\n",
              "      <td>10</td>\n",
              "      <td>3</td>\n",
              "      <td>4.0</td>\n",
              "    </tr>\n",
              "    <tr>\n",
              "      <th>608</th>\n",
              "      <td>103</td>\n",
              "      <td>3</td>\n",
              "      <td>7</td>\n",
              "      <td>14</td>\n",
              "      <td>10</td>\n",
              "      <td>3</td>\n",
              "      <td>4.0</td>\n",
              "    </tr>\n",
              "  </tbody>\n",
              "</table>\n",
              "<p>609 rows × 7 columns</p>\n",
              "</div>\n",
              "      <button class=\"colab-df-convert\" onclick=\"convertToInteractive('df-5bafe890-0d7c-41fb-bb19-08ce6588e48b')\"\n",
              "              title=\"Convert this dataframe to an interactive table.\"\n",
              "              style=\"display:none;\">\n",
              "        \n",
              "  <svg xmlns=\"http://www.w3.org/2000/svg\" height=\"24px\"viewBox=\"0 0 24 24\"\n",
              "       width=\"24px\">\n",
              "    <path d=\"M0 0h24v24H0V0z\" fill=\"none\"/>\n",
              "    <path d=\"M18.56 5.44l.94 2.06.94-2.06 2.06-.94-2.06-.94-.94-2.06-.94 2.06-2.06.94zm-11 1L8.5 8.5l.94-2.06 2.06-.94-2.06-.94L8.5 2.5l-.94 2.06-2.06.94zm10 10l.94 2.06.94-2.06 2.06-.94-2.06-.94-.94-2.06-.94 2.06-2.06.94z\"/><path d=\"M17.41 7.96l-1.37-1.37c-.4-.4-.92-.59-1.43-.59-.52 0-1.04.2-1.43.59L10.3 9.45l-7.72 7.72c-.78.78-.78 2.05 0 2.83L4 21.41c.39.39.9.59 1.41.59.51 0 1.02-.2 1.41-.59l7.78-7.78 2.81-2.81c.8-.78.8-2.07 0-2.86zM5.41 20L4 18.59l7.72-7.72 1.47 1.35L5.41 20z\"/>\n",
              "  </svg>\n",
              "      </button>\n",
              "      \n",
              "  <style>\n",
              "    .colab-df-container {\n",
              "      display:flex;\n",
              "      flex-wrap:wrap;\n",
              "      gap: 12px;\n",
              "    }\n",
              "\n",
              "    .colab-df-convert {\n",
              "      background-color: #E8F0FE;\n",
              "      border: none;\n",
              "      border-radius: 50%;\n",
              "      cursor: pointer;\n",
              "      display: none;\n",
              "      fill: #1967D2;\n",
              "      height: 32px;\n",
              "      padding: 0 0 0 0;\n",
              "      width: 32px;\n",
              "    }\n",
              "\n",
              "    .colab-df-convert:hover {\n",
              "      background-color: #E2EBFA;\n",
              "      box-shadow: 0px 1px 2px rgba(60, 64, 67, 0.3), 0px 1px 3px 1px rgba(60, 64, 67, 0.15);\n",
              "      fill: #174EA6;\n",
              "    }\n",
              "\n",
              "    [theme=dark] .colab-df-convert {\n",
              "      background-color: #3B4455;\n",
              "      fill: #D2E3FC;\n",
              "    }\n",
              "\n",
              "    [theme=dark] .colab-df-convert:hover {\n",
              "      background-color: #434B5C;\n",
              "      box-shadow: 0px 1px 3px 1px rgba(0, 0, 0, 0.15);\n",
              "      filter: drop-shadow(0px 1px 2px rgba(0, 0, 0, 0.3));\n",
              "      fill: #FFFFFF;\n",
              "    }\n",
              "  </style>\n",
              "\n",
              "      <script>\n",
              "        const buttonEl =\n",
              "          document.querySelector('#df-5bafe890-0d7c-41fb-bb19-08ce6588e48b button.colab-df-convert');\n",
              "        buttonEl.style.display =\n",
              "          google.colab.kernel.accessAllowed ? 'block' : 'none';\n",
              "\n",
              "        async function convertToInteractive(key) {\n",
              "          const element = document.querySelector('#df-5bafe890-0d7c-41fb-bb19-08ce6588e48b');\n",
              "          const dataTable =\n",
              "            await google.colab.kernel.invokeFunction('convertToInteractive',\n",
              "                                                     [key], {});\n",
              "          if (!dataTable) return;\n",
              "\n",
              "          const docLinkHtml = 'Like what you see? Visit the ' +\n",
              "            '<a target=\"_blank\" href=https://colab.research.google.com/notebooks/data_table.ipynb>data table notebook</a>'\n",
              "            + ' to learn more about interactive tables.';\n",
              "          element.innerHTML = '';\n",
              "          dataTable['output_type'] = 'display_data';\n",
              "          await google.colab.output.renderOutput(dataTable, element);\n",
              "          const docLink = document.createElement('div');\n",
              "          docLink.innerHTML = docLinkHtml;\n",
              "          element.appendChild(docLink);\n",
              "        }\n",
              "      </script>\n",
              "    </div>\n",
              "  </div>\n",
              "  "
            ]
          },
          "metadata": {},
          "execution_count": 87
        }
      ]
    },
    {
      "cell_type": "markdown",
      "source": [
        "Let's set a dataset that we can use in our prediction."
      ],
      "metadata": {
        "id": "YeTC-0WWxJDX"
      }
    },
    {
      "cell_type": "code",
      "source": [
        "target_df = training_df.set_index(['stationId'])\n",
        "target_df"
      ],
      "metadata": {
        "colab": {
          "base_uri": "https://localhost:8080/",
          "height": 455
        },
        "id": "kaGsp9fBFuWr",
        "outputId": "2fcb54fc-3f9b-4030-e3e9-73a20ecf24a4"
      },
      "execution_count": 88,
      "outputs": [
        {
          "output_type": "execute_result",
          "data": {
            "text/plain": [
              "           polluant  valeur  heure  arrondissement_ville  secteur_nom  hauteur\n",
              "stationId                                                                     \n",
              "3                 1       1      0                     1            1      4.0\n",
              "3                 2      18      0                     1            1      4.0\n",
              "3                 3       5      0                     1            1      4.0\n",
              "3                 4       2      0                     1            1      4.0\n",
              "3                 1       1      1                     1            1      4.0\n",
              "...             ...     ...    ...                   ...          ...      ...\n",
              "103               2      19     13                    10            3      4.0\n",
              "103               3       7     13                    10            3      4.0\n",
              "103               1       1     14                    10            3      4.0\n",
              "103               2      19     14                    10            3      4.0\n",
              "103               3       7     14                    10            3      4.0\n",
              "\n",
              "[609 rows x 6 columns]"
            ],
            "text/html": [
              "\n",
              "  <div id=\"df-b47dedb1-6144-4160-83fc-5c825dd1cdb8\">\n",
              "    <div class=\"colab-df-container\">\n",
              "      <div>\n",
              "<style scoped>\n",
              "    .dataframe tbody tr th:only-of-type {\n",
              "        vertical-align: middle;\n",
              "    }\n",
              "\n",
              "    .dataframe tbody tr th {\n",
              "        vertical-align: top;\n",
              "    }\n",
              "\n",
              "    .dataframe thead th {\n",
              "        text-align: right;\n",
              "    }\n",
              "</style>\n",
              "<table border=\"1\" class=\"dataframe\">\n",
              "  <thead>\n",
              "    <tr style=\"text-align: right;\">\n",
              "      <th></th>\n",
              "      <th>polluant</th>\n",
              "      <th>valeur</th>\n",
              "      <th>heure</th>\n",
              "      <th>arrondissement_ville</th>\n",
              "      <th>secteur_nom</th>\n",
              "      <th>hauteur</th>\n",
              "    </tr>\n",
              "    <tr>\n",
              "      <th>stationId</th>\n",
              "      <th></th>\n",
              "      <th></th>\n",
              "      <th></th>\n",
              "      <th></th>\n",
              "      <th></th>\n",
              "      <th></th>\n",
              "    </tr>\n",
              "  </thead>\n",
              "  <tbody>\n",
              "    <tr>\n",
              "      <th>3</th>\n",
              "      <td>1</td>\n",
              "      <td>1</td>\n",
              "      <td>0</td>\n",
              "      <td>1</td>\n",
              "      <td>1</td>\n",
              "      <td>4.0</td>\n",
              "    </tr>\n",
              "    <tr>\n",
              "      <th>3</th>\n",
              "      <td>2</td>\n",
              "      <td>18</td>\n",
              "      <td>0</td>\n",
              "      <td>1</td>\n",
              "      <td>1</td>\n",
              "      <td>4.0</td>\n",
              "    </tr>\n",
              "    <tr>\n",
              "      <th>3</th>\n",
              "      <td>3</td>\n",
              "      <td>5</td>\n",
              "      <td>0</td>\n",
              "      <td>1</td>\n",
              "      <td>1</td>\n",
              "      <td>4.0</td>\n",
              "    </tr>\n",
              "    <tr>\n",
              "      <th>3</th>\n",
              "      <td>4</td>\n",
              "      <td>2</td>\n",
              "      <td>0</td>\n",
              "      <td>1</td>\n",
              "      <td>1</td>\n",
              "      <td>4.0</td>\n",
              "    </tr>\n",
              "    <tr>\n",
              "      <th>3</th>\n",
              "      <td>1</td>\n",
              "      <td>1</td>\n",
              "      <td>1</td>\n",
              "      <td>1</td>\n",
              "      <td>1</td>\n",
              "      <td>4.0</td>\n",
              "    </tr>\n",
              "    <tr>\n",
              "      <th>...</th>\n",
              "      <td>...</td>\n",
              "      <td>...</td>\n",
              "      <td>...</td>\n",
              "      <td>...</td>\n",
              "      <td>...</td>\n",
              "      <td>...</td>\n",
              "    </tr>\n",
              "    <tr>\n",
              "      <th>103</th>\n",
              "      <td>2</td>\n",
              "      <td>19</td>\n",
              "      <td>13</td>\n",
              "      <td>10</td>\n",
              "      <td>3</td>\n",
              "      <td>4.0</td>\n",
              "    </tr>\n",
              "    <tr>\n",
              "      <th>103</th>\n",
              "      <td>3</td>\n",
              "      <td>7</td>\n",
              "      <td>13</td>\n",
              "      <td>10</td>\n",
              "      <td>3</td>\n",
              "      <td>4.0</td>\n",
              "    </tr>\n",
              "    <tr>\n",
              "      <th>103</th>\n",
              "      <td>1</td>\n",
              "      <td>1</td>\n",
              "      <td>14</td>\n",
              "      <td>10</td>\n",
              "      <td>3</td>\n",
              "      <td>4.0</td>\n",
              "    </tr>\n",
              "    <tr>\n",
              "      <th>103</th>\n",
              "      <td>2</td>\n",
              "      <td>19</td>\n",
              "      <td>14</td>\n",
              "      <td>10</td>\n",
              "      <td>3</td>\n",
              "      <td>4.0</td>\n",
              "    </tr>\n",
              "    <tr>\n",
              "      <th>103</th>\n",
              "      <td>3</td>\n",
              "      <td>7</td>\n",
              "      <td>14</td>\n",
              "      <td>10</td>\n",
              "      <td>3</td>\n",
              "      <td>4.0</td>\n",
              "    </tr>\n",
              "  </tbody>\n",
              "</table>\n",
              "<p>609 rows × 6 columns</p>\n",
              "</div>\n",
              "      <button class=\"colab-df-convert\" onclick=\"convertToInteractive('df-b47dedb1-6144-4160-83fc-5c825dd1cdb8')\"\n",
              "              title=\"Convert this dataframe to an interactive table.\"\n",
              "              style=\"display:none;\">\n",
              "        \n",
              "  <svg xmlns=\"http://www.w3.org/2000/svg\" height=\"24px\"viewBox=\"0 0 24 24\"\n",
              "       width=\"24px\">\n",
              "    <path d=\"M0 0h24v24H0V0z\" fill=\"none\"/>\n",
              "    <path d=\"M18.56 5.44l.94 2.06.94-2.06 2.06-.94-2.06-.94-.94-2.06-.94 2.06-2.06.94zm-11 1L8.5 8.5l.94-2.06 2.06-.94-2.06-.94L8.5 2.5l-.94 2.06-2.06.94zm10 10l.94 2.06.94-2.06 2.06-.94-2.06-.94-.94-2.06-.94 2.06-2.06.94z\"/><path d=\"M17.41 7.96l-1.37-1.37c-.4-.4-.92-.59-1.43-.59-.52 0-1.04.2-1.43.59L10.3 9.45l-7.72 7.72c-.78.78-.78 2.05 0 2.83L4 21.41c.39.39.9.59 1.41.59.51 0 1.02-.2 1.41-.59l7.78-7.78 2.81-2.81c.8-.78.8-2.07 0-2.86zM5.41 20L4 18.59l7.72-7.72 1.47 1.35L5.41 20z\"/>\n",
              "  </svg>\n",
              "      </button>\n",
              "      \n",
              "  <style>\n",
              "    .colab-df-container {\n",
              "      display:flex;\n",
              "      flex-wrap:wrap;\n",
              "      gap: 12px;\n",
              "    }\n",
              "\n",
              "    .colab-df-convert {\n",
              "      background-color: #E8F0FE;\n",
              "      border: none;\n",
              "      border-radius: 50%;\n",
              "      cursor: pointer;\n",
              "      display: none;\n",
              "      fill: #1967D2;\n",
              "      height: 32px;\n",
              "      padding: 0 0 0 0;\n",
              "      width: 32px;\n",
              "    }\n",
              "\n",
              "    .colab-df-convert:hover {\n",
              "      background-color: #E2EBFA;\n",
              "      box-shadow: 0px 1px 2px rgba(60, 64, 67, 0.3), 0px 1px 3px 1px rgba(60, 64, 67, 0.15);\n",
              "      fill: #174EA6;\n",
              "    }\n",
              "\n",
              "    [theme=dark] .colab-df-convert {\n",
              "      background-color: #3B4455;\n",
              "      fill: #D2E3FC;\n",
              "    }\n",
              "\n",
              "    [theme=dark] .colab-df-convert:hover {\n",
              "      background-color: #434B5C;\n",
              "      box-shadow: 0px 1px 3px 1px rgba(0, 0, 0, 0.15);\n",
              "      filter: drop-shadow(0px 1px 2px rgba(0, 0, 0, 0.3));\n",
              "      fill: #FFFFFF;\n",
              "    }\n",
              "  </style>\n",
              "\n",
              "      <script>\n",
              "        const buttonEl =\n",
              "          document.querySelector('#df-b47dedb1-6144-4160-83fc-5c825dd1cdb8 button.colab-df-convert');\n",
              "        buttonEl.style.display =\n",
              "          google.colab.kernel.accessAllowed ? 'block' : 'none';\n",
              "\n",
              "        async function convertToInteractive(key) {\n",
              "          const element = document.querySelector('#df-b47dedb1-6144-4160-83fc-5c825dd1cdb8');\n",
              "          const dataTable =\n",
              "            await google.colab.kernel.invokeFunction('convertToInteractive',\n",
              "                                                     [key], {});\n",
              "          if (!dataTable) return;\n",
              "\n",
              "          const docLinkHtml = 'Like what you see? Visit the ' +\n",
              "            '<a target=\"_blank\" href=https://colab.research.google.com/notebooks/data_table.ipynb>data table notebook</a>'\n",
              "            + ' to learn more about interactive tables.';\n",
              "          element.innerHTML = '';\n",
              "          dataTable['output_type'] = 'display_data';\n",
              "          await google.colab.output.renderOutput(dataTable, element);\n",
              "          const docLink = document.createElement('div');\n",
              "          docLink.innerHTML = docLinkHtml;\n",
              "          element.appendChild(docLink);\n",
              "        }\n",
              "      </script>\n",
              "    </div>\n",
              "  </div>\n",
              "  "
            ]
          },
          "metadata": {},
          "execution_count": 88
        }
      ]
    },
    {
      "cell_type": "markdown",
      "source": [
        "#Analysis"
      ],
      "metadata": {
        "id": "S1ke6yAoGzRM"
      }
    },
    {
      "cell_type": "markdown",
      "source": [
        "## Which pollutant has the worst air quality index?"
      ],
      "metadata": {
        "id": "1BfGLlG72sKJ"
      }
    },
    {
      "cell_type": "code",
      "source": [
        "pollutant = df['polluant'].unique()\n",
        "pollutant"
      ],
      "metadata": {
        "colab": {
          "base_uri": "https://localhost:8080/"
        },
        "id": "q_ehPZAP7-m3",
        "outputId": "8544eff5-f608-465f-c381-09bfcf940f22"
      },
      "execution_count": 89,
      "outputs": [
        {
          "output_type": "execute_result",
          "data": {
            "text/plain": [
              "array(['NO2', 'O3', 'PM', 'SO2', 'CO'], dtype=object)"
            ]
          },
          "metadata": {},
          "execution_count": 89
        }
      ]
    },
    {
      "cell_type": "markdown",
      "source": [
        "We have 5 pollutants registered by air quality stations in Montreal."
      ],
      "metadata": {
        "id": "Ubkk0CzY8OWm"
      }
    },
    {
      "cell_type": "markdown",
      "source": [
        "Let's calculate and picture the average air quality value for each pollutant."
      ],
      "metadata": {
        "id": "djV0OWgMGA56"
      }
    },
    {
      "cell_type": "code",
      "source": [
        "pollutant = df.groupby('polluant')['valeur'].mean()\n",
        "pollutant"
      ],
      "metadata": {
        "colab": {
          "base_uri": "https://localhost:8080/"
        },
        "id": "dv8W6d30_WKm",
        "outputId": "a6f638fe-7887-4a4d-badc-b88324a38e40"
      },
      "execution_count": 90,
      "outputs": [
        {
          "output_type": "execute_result",
          "data": {
            "text/plain": [
              "polluant\n",
              "CO      1.000000\n",
              "NO2     2.736111\n",
              "O3     13.813333\n",
              "PM      5.466667\n",
              "SO2     0.960000\n",
              "Name: valeur, dtype: float64"
            ]
          },
          "metadata": {},
          "execution_count": 90
        }
      ]
    },
    {
      "cell_type": "code",
      "source": [
        "plt.figure(figsize=[21,9], dpi=300, facecolor='black', edgecolor='black')\n",
        "plt.bar(pollutant.index, pollutant.values, color='green')\n",
        "plt.tick_params(axis='x', colors='white')\n",
        "plt.tick_params(axis='y', colors='white')\n",
        "plt.show()"
      ],
      "metadata": {
        "colab": {
          "base_uri": "https://localhost:8080/",
          "height": 554
        },
        "id": "BAzHsYjqGM6a",
        "outputId": "eb7ece49-1424-46f9-c0ff-5b8fef3ea374"
      },
      "execution_count": 91,
      "outputs": [
        {
          "output_type": "display_data",
          "data": {
            "text/plain": [
              "<Figure size 6300x2700 with 1 Axes>"
            ],
            "image/png": "[encoded data removed]"
          },
          "metadata": {}
        }
      ]
    },
    {
      "cell_type": "markdown",
      "source": [
        "We can clearly see that O3 has the biggest impact on the air quality index."
      ],
      "metadata": {
        "id": "iWX4dPdVHVTa"
      }
    },
    {
      "cell_type": "markdown",
      "source": [
        "##Which arrondissement has the worst air quality?"
      ],
      "metadata": {
        "id": "47SmvsRhqye5"
      }
    },
    {
      "cell_type": "code",
      "source": [
        "arrondissement = df['arrondissement_ville'].unique()\n",
        "arrondissement"
      ],
      "metadata": {
        "colab": {
          "base_uri": "https://localhost:8080/"
        },
        "id": "0D5C0datrGti",
        "outputId": "2f3a0fb5-5ccc-46b6-e899-394bfd7af466"
      },
      "execution_count": 92,
      "outputs": [
        {
          "output_type": "execute_result",
          "data": {
            "text/plain": [
              "array(['Rivière-des-Prairies', 'Anjou', 'Montréal-Nord', 'Mont-Royal',\n",
              "       'Ville-Marie', 'Hochelaga-Maisonneuve', 'Dorval',\n",
              "       'Rosemont-La Petite-Patrie', 'Sainte-Anne-de-Bellevue',\n",
              "       'Sud-Ouest'], dtype=object)"
            ]
          },
          "metadata": {},
          "execution_count": 92
        }
      ]
    },
    {
      "cell_type": "markdown",
      "source": [
        "We have 10 boroughs."
      ],
      "metadata": {
        "id": "bEWAlSwdrRU4"
      }
    },
    {
      "cell_type": "markdown",
      "source": [
        "Let's picture the average air quality index for each borough."
      ],
      "metadata": {
        "id": "Dl9R-zwyrrBb"
      }
    },
    {
      "cell_type": "code",
      "source": [
        "borough = df.groupby('arrondissement_ville')['valeur'].mean()\n",
        "borough"
      ],
      "metadata": {
        "colab": {
          "base_uri": "https://localhost:8080/"
        },
        "id": "q7Q8W4KBrxku",
        "outputId": "fb76dd96-961f-48ce-b033-10cec1770ab9"
      },
      "execution_count": 93,
      "outputs": [
        {
          "output_type": "execute_result",
          "data": {
            "text/plain": [
              "arrondissement_ville\n",
              "Anjou                        5.050000\n",
              "Dorval                       5.933333\n",
              "Hochelaga-Maisonneuve        7.400000\n",
              "Mont-Royal                   6.250000\n",
              "Montréal-Nord                5.416667\n",
              "Rivière-des-Prairies         5.745614\n",
              "Rosemont-La Petite-Patrie    5.533333\n",
              "Sainte-Anne-de-Bellevue      6.083333\n",
              "Sud-Ouest                    8.088889\n",
              "Ville-Marie                  4.386667\n",
              "Name: valeur, dtype: float64"
            ]
          },
          "metadata": {},
          "execution_count": 93
        }
      ]
    },
    {
      "cell_type": "code",
      "source": [
        "plt.figure(figsize=[21,9], dpi=300, facecolor='black', edgecolor='black')\n",
        "plt.bar(borough.index, borough.values, color='pink')\n",
        "plt.tick_params(axis='x', colors='ghostwhite', labelrotation=30)\n",
        "plt.tick_params(axis='y', colors='ghostwhite')\n",
        "plt.show()"
      ],
      "metadata": {
        "colab": {
          "base_uri": "https://localhost:8080/",
          "height": 623
        },
        "id": "lUOOaXyEsD5C",
        "outputId": "f8618a47-2bae-4c44-aa52-93559986e52e"
      },
      "execution_count": 94,
      "outputs": [
        {
          "output_type": "display_data",
          "data": {
            "text/plain": [
              "<Figure size 6300x2700 with 1 Axes>"
            ],
            "image/png": "[encoded data removed]"
          },
          "metadata": {}
        }
      ]
    },
    {
      "cell_type": "markdown",
      "source": [
        "We can clearly see that Sud-Ouest and Hochelaga-Maisonneuve have, on average, the worst air quality in Montreal."
      ],
      "metadata": {
        "id": "7uVffOhOtkjo"
      }
    },
    {
      "cell_type": "markdown",
      "source": [
        "Why's that? It is because they have a high concentration of factories. Indeed, Sud-Ouest has factories due to Canal Lachine, and Hochelaga-Maisonneuve has factories and shipping companies because it has the Port of Montreal. Thus, it is a central point in Montreal industrial development."
      ],
      "metadata": {
        "id": "QoOr1l5Ruetv"
      }
    },
    {
      "cell_type": "markdown",
      "source": [
        "#Machine Learning"
      ],
      "metadata": {
        "id": "ceVZ9Z3U2bxm"
      }
    },
    {
      "cell_type": "markdown",
      "source": [
        "Let's start our machine learning work."
      ],
      "metadata": {
        "id": "hLjVXGTr2pCO"
      }
    },
    {
      "cell_type": "markdown",
      "source": [
        "Let's choose a model."
      ],
      "metadata": {
        "id": "6ZgCBvqP4wAp"
      }
    },
    {
      "cell_type": "code",
      "source": [
        "from sklearn.linear_model import LinearRegression"
      ],
      "metadata": {
        "id": "INALyl8z4yXh"
      },
      "execution_count": 95,
      "outputs": []
    },
    {
      "cell_type": "markdown",
      "source": [
        "Let's set the parameters of the model."
      ],
      "metadata": {
        "id": "wf8uzTYp48dw"
      }
    },
    {
      "cell_type": "code",
      "source": [
        "model = LinearRegression()\n",
        "model"
      ],
      "metadata": {
        "colab": {
          "base_uri": "https://localhost:8080/"
        },
        "id": "qcK_4Gau4_4B",
        "outputId": "a91eae8c-8c6f-4973-b76d-1c6f350150c2"
      },
      "execution_count": 96,
      "outputs": [
        {
          "output_type": "execute_result",
          "data": {
            "text/plain": [
              "LinearRegression()"
            ]
          },
          "metadata": {},
          "execution_count": 96
        }
      ]
    },
    {
      "cell_type": "markdown",
      "source": [
        "Let's create a feature matrix and target vector."
      ],
      "metadata": {
        "id": "q-uzWNM16L1r"
      }
    },
    {
      "cell_type": "code",
      "source": [
        "feature_df=target_df.drop(columns=['valeur'])\n",
        "feature_df"
      ],
      "metadata": {
        "colab": {
          "base_uri": "https://localhost:8080/",
          "height": 455
        },
        "id": "cyUWlpAM6RIe",
        "outputId": "453fe37f-eb98-4c7f-8308-80475a9066e1"
      },
      "execution_count": 97,
      "outputs": [
        {
          "output_type": "execute_result",
          "data": {
            "text/plain": [
              "           polluant  heure  arrondissement_ville  secteur_nom  hauteur\n",
              "stationId                                                             \n",
              "3                 1      0                     1            1      4.0\n",
              "3                 2      0                     1            1      4.0\n",
              "3                 3      0                     1            1      4.0\n",
              "3                 4      0                     1            1      4.0\n",
              "3                 1      1                     1            1      4.0\n",
              "...             ...    ...                   ...          ...      ...\n",
              "103               2     13                    10            3      4.0\n",
              "103               3     13                    10            3      4.0\n",
              "103               1     14                    10            3      4.0\n",
              "103               2     14                    10            3      4.0\n",
              "103               3     14                    10            3      4.0\n",
              "\n",
              "[609 rows x 5 columns]"
            ],
            "text/html": [
              "\n",
              "  <div id=\"df-edace67c-259a-43af-8fc8-a0c188fea1fd\">\n",
              "    <div class=\"colab-df-container\">\n",
              "      <div>\n",
              "<style scoped>\n",
              "    .dataframe tbody tr th:only-of-type {\n",
              "        vertical-align: middle;\n",
              "    }\n",
              "\n",
              "    .dataframe tbody tr th {\n",
              "        vertical-align: top;\n",
              "    }\n",
              "\n",
              "    .dataframe thead th {\n",
              "        text-align: right;\n",
              "    }\n",
              "</style>\n",
              "<table border=\"1\" class=\"dataframe\">\n",
              "  <thead>\n",
              "    <tr style=\"text-align: right;\">\n",
              "      <th></th>\n",
              "      <th>polluant</th>\n",
              "      <th>heure</th>\n",
              "      <th>arrondissement_ville</th>\n",
              "      <th>secteur_nom</th>\n",
              "      <th>hauteur</th>\n",
              "    </tr>\n",
              "    <tr>\n",
              "      <th>stationId</th>\n",
              "      <th></th>\n",
              "      <th></th>\n",
              "      <th></th>\n",
              "      <th></th>\n",
              "      <th></th>\n",
              "    </tr>\n",
              "  </thead>\n",
              "  <tbody>\n",
              "    <tr>\n",
              "      <th>3</th>\n",
              "      <td>1</td>\n",
              "      <td>0</td>\n",
              "      <td>1</td>\n",
              "      <td>1</td>\n",
              "      <td>4.0</td>\n",
              "    </tr>\n",
              "    <tr>\n",
              "      <th>3</th>\n",
              "      <td>2</td>\n",
              "      <td>0</td>\n",
              "      <td>1</td>\n",
              "      <td>1</td>\n",
              "      <td>4.0</td>\n",
              "    </tr>\n",
              "    <tr>\n",
              "      <th>3</th>\n",
              "      <td>3</td>\n",
              "      <td>0</td>\n",
              "      <td>1</td>\n",
              "      <td>1</td>\n",
              "      <td>4.0</td>\n",
              "    </tr>\n",
              "    <tr>\n",
              "      <th>3</th>\n",
              "      <td>4</td>\n",
              "      <td>0</td>\n",
              "      <td>1</td>\n",
              "      <td>1</td>\n",
              "      <td>4.0</td>\n",
              "    </tr>\n",
              "    <tr>\n",
              "      <th>3</th>\n",
              "      <td>1</td>\n",
              "      <td>1</td>\n",
              "      <td>1</td>\n",
              "      <td>1</td>\n",
              "      <td>4.0</td>\n",
              "    </tr>\n",
              "    <tr>\n",
              "      <th>...</th>\n",
              "      <td>...</td>\n",
              "      <td>...</td>\n",
              "      <td>...</td>\n",
              "      <td>...</td>\n",
              "      <td>...</td>\n",
              "    </tr>\n",
              "    <tr>\n",
              "      <th>103</th>\n",
              "      <td>2</td>\n",
              "      <td>13</td>\n",
              "      <td>10</td>\n",
              "      <td>3</td>\n",
              "      <td>4.0</td>\n",
              "    </tr>\n",
              "    <tr>\n",
              "      <th>103</th>\n",
              "      <td>3</td>\n",
              "      <td>13</td>\n",
              "      <td>10</td>\n",
              "      <td>3</td>\n",
              "      <td>4.0</td>\n",
              "    </tr>\n",
              "    <tr>\n",
              "      <th>103</th>\n",
              "      <td>1</td>\n",
              "      <td>14</td>\n",
              "      <td>10</td>\n",
              "      <td>3</td>\n",
              "      <td>4.0</td>\n",
              "    </tr>\n",
              "    <tr>\n",
              "      <th>103</th>\n",
              "      <td>2</td>\n",
              "      <td>14</td>\n",
              "      <td>10</td>\n",
              "      <td>3</td>\n",
              "      <td>4.0</td>\n",
              "    </tr>\n",
              "    <tr>\n",
              "      <th>103</th>\n",
              "      <td>3</td>\n",
              "      <td>14</td>\n",
              "      <td>10</td>\n",
              "      <td>3</td>\n",
              "      <td>4.0</td>\n",
              "    </tr>\n",
              "  </tbody>\n",
              "</table>\n",
              "<p>609 rows × 5 columns</p>\n",
              "</div>\n",
              "      <button class=\"colab-df-convert\" onclick=\"convertToInteractive('df-edace67c-259a-43af-8fc8-a0c188fea1fd')\"\n",
              "              title=\"Convert this dataframe to an interactive table.\"\n",
              "              style=\"display:none;\">\n",
              "        \n",
              "  <svg xmlns=\"http://www.w3.org/2000/svg\" height=\"24px\"viewBox=\"0 0 24 24\"\n",
              "       width=\"24px\">\n",
              "    <path d=\"M0 0h24v24H0V0z\" fill=\"none\"/>\n",
              "    <path d=\"M18.56 5.44l.94 2.06.94-2.06 2.06-.94-2.06-.94-.94-2.06-.94 2.06-2.06.94zm-11 1L8.5 8.5l.94-2.06 2.06-.94-2.06-.94L8.5 2.5l-.94 2.06-2.06.94zm10 10l.94 2.06.94-2.06 2.06-.94-2.06-.94-.94-2.06-.94 2.06-2.06.94z\"/><path d=\"M17.41 7.96l-1.37-1.37c-.4-.4-.92-.59-1.43-.59-.52 0-1.04.2-1.43.59L10.3 9.45l-7.72 7.72c-.78.78-.78 2.05 0 2.83L4 21.41c.39.39.9.59 1.41.59.51 0 1.02-.2 1.41-.59l7.78-7.78 2.81-2.81c.8-.78.8-2.07 0-2.86zM5.41 20L4 18.59l7.72-7.72 1.47 1.35L5.41 20z\"/>\n",
              "  </svg>\n",
              "      </button>\n",
              "      \n",
              "  <style>\n",
              "    .colab-df-container {\n",
              "      display:flex;\n",
              "      flex-wrap:wrap;\n",
              "      gap: 12px;\n",
              "    }\n",
              "\n",
              "    .colab-df-convert {\n",
              "      background-color: #E8F0FE;\n",
              "      border: none;\n",
              "      border-radius: 50%;\n",
              "      cursor: pointer;\n",
              "      display: none;\n",
              "      fill: #1967D2;\n",
              "      height: 32px;\n",
              "      padding: 0 0 0 0;\n",
              "      width: 32px;\n",
              "    }\n",
              "\n",
              "    .colab-df-convert:hover {\n",
              "      background-color: #E2EBFA;\n",
              "      box-shadow: 0px 1px 2px rgba(60, 64, 67, 0.3), 0px 1px 3px 1px rgba(60, 64, 67, 0.15);\n",
              "      fill: #174EA6;\n",
              "    }\n",
              "\n",
              "    [theme=dark] .colab-df-convert {\n",
              "      background-color: #3B4455;\n",
              "      fill: #D2E3FC;\n",
              "    }\n",
              "\n",
              "    [theme=dark] .colab-df-convert:hover {\n",
              "      background-color: #434B5C;\n",
              "      box-shadow: 0px 1px 3px 1px rgba(0, 0, 0, 0.15);\n",
              "      filter: drop-shadow(0px 1px 2px rgba(0, 0, 0, 0.3));\n",
              "      fill: #FFFFFF;\n",
              "    }\n",
              "  </style>\n",
              "\n",
              "      <script>\n",
              "        const buttonEl =\n",
              "          document.querySelector('#df-edace67c-259a-43af-8fc8-a0c188fea1fd button.colab-df-convert');\n",
              "        buttonEl.style.display =\n",
              "          google.colab.kernel.accessAllowed ? 'block' : 'none';\n",
              "\n",
              "        async function convertToInteractive(key) {\n",
              "          const element = document.querySelector('#df-edace67c-259a-43af-8fc8-a0c188fea1fd');\n",
              "          const dataTable =\n",
              "            await google.colab.kernel.invokeFunction('convertToInteractive',\n",
              "                                                     [key], {});\n",
              "          if (!dataTable) return;\n",
              "\n",
              "          const docLinkHtml = 'Like what you see? Visit the ' +\n",
              "            '<a target=\"_blank\" href=https://colab.research.google.com/notebooks/data_table.ipynb>data table notebook</a>'\n",
              "            + ' to learn more about interactive tables.';\n",
              "          element.innerHTML = '';\n",
              "          dataTable['output_type'] = 'display_data';\n",
              "          await google.colab.output.renderOutput(dataTable, element);\n",
              "          const docLink = document.createElement('div');\n",
              "          docLink.innerHTML = docLinkHtml;\n",
              "          element.appendChild(docLink);\n",
              "        }\n",
              "      </script>\n",
              "    </div>\n",
              "  </div>\n",
              "  "
            ]
          },
          "metadata": {},
          "execution_count": 97
        }
      ]
    },
    {
      "cell_type": "markdown",
      "source": [
        "Let's use the fit function."
      ],
      "metadata": {
        "id": "3f7P30z96-2L"
      }
    },
    {
      "cell_type": "code",
      "source": [
        "model.fit(feature_df,target_df)"
      ],
      "metadata": {
        "colab": {
          "base_uri": "https://localhost:8080/"
        },
        "id": "kpVEz1Wz6-BM",
        "outputId": "fa22389c-a02a-4822-87d0-6c6be9c8794b"
      },
      "execution_count": 98,
      "outputs": [
        {
          "output_type": "execute_result",
          "data": {
            "text/plain": [
              "LinearRegression()"
            ]
          },
          "metadata": {},
          "execution_count": 98
        }
      ]
    },
    {
      "cell_type": "code",
      "source": [
        "model.coef_"
      ],
      "metadata": {
        "colab": {
          "base_uri": "https://localhost:8080/"
        },
        "id": "1KD_girGAqgg",
        "outputId": "c1393173-57a0-4dd4-efb3-d043b42bd237"
      },
      "execution_count": 99,
      "outputs": [
        {
          "output_type": "execute_result",
          "data": {
            "text/plain": [
              "array([[ 1.00000000e+00,  3.68977919e-17,  4.26488308e-17,\n",
              "        -8.21063964e-17,  6.39037893e-18],\n",
              "       [-1.32646725e+00,  9.05368674e-02,  1.67481289e-01,\n",
              "        -2.85121651e-01, -8.76715814e-02],\n",
              "       [ 1.99469515e-16,  1.00000000e+00,  1.11022302e-16,\n",
              "        -5.82867088e-16,  3.33066907e-16],\n",
              "       [-3.88879945e-15, -1.11022302e-16,  1.00000000e+00,\n",
              "        -3.15719673e-16, -3.33066907e-16],\n",
              "       [-1.78369219e-15, -7.63278329e-17, -4.05925293e-16,\n",
              "         1.00000000e+00, -7.63278329e-17],\n",
              "       [-4.54282829e-16,  1.11022302e-16,  1.11022302e-16,\n",
              "        -6.21031004e-16,  1.00000000e+00]])"
            ]
          },
          "metadata": {},
          "execution_count": 99
        }
      ]
    },
    {
      "cell_type": "code",
      "source": [
        "model.intercept_"
      ],
      "metadata": {
        "colab": {
          "base_uri": "https://localhost:8080/"
        },
        "id": "-iyZZth7Aym-",
        "outputId": "6c94e845-d93a-4ab7-9a26-5592758ff2ab"
      },
      "execution_count": 100,
      "outputs": [
        {
          "output_type": "execute_result",
          "data": {
            "text/plain": [
              "array([-4.88498131e-15,  9.26394748e+00,  2.66453526e-15,  1.59872116e-14,\n",
              "        7.10542736e-15,  5.32907052e-15])"
            ]
          },
          "metadata": {},
          "execution_count": 100
        }
      ]
    },
    {
      "cell_type": "markdown",
      "source": [
        "Then, let's predict!"
      ],
      "metadata": {
        "id": "_aNGEyhfxlD5"
      }
    },
    {
      "cell_type": "code",
      "source": [
        "x_predict = target_df.head(1)\n",
        "x_predict"
      ],
      "metadata": {
        "colab": {
          "base_uri": "https://localhost:8080/",
          "height": 112
        },
        "id": "So2vFOeJBnVr",
        "outputId": "2cd36009-3005-4be5-bfa2-2714eaab8839"
      },
      "execution_count": 101,
      "outputs": [
        {
          "output_type": "execute_result",
          "data": {
            "text/plain": [
              "           polluant  valeur  heure  arrondissement_ville  secteur_nom  hauteur\n",
              "stationId                                                                     \n",
              "3                 1       1      0                     1            1      4.0"
            ],
            "text/html": [
              "\n",
              "  <div id=\"df-b9a7606f-fa79-492b-ab7f-301e0346d860\">\n",
              "    <div class=\"colab-df-container\">\n",
              "      <div>\n",
              "<style scoped>\n",
              "    .dataframe tbody tr th:only-of-type {\n",
              "        vertical-align: middle;\n",
              "    }\n",
              "\n",
              "    .dataframe tbody tr th {\n",
              "        vertical-align: top;\n",
              "    }\n",
              "\n",
              "    .dataframe thead th {\n",
              "        text-align: right;\n",
              "    }\n",
              "</style>\n",
              "<table border=\"1\" class=\"dataframe\">\n",
              "  <thead>\n",
              "    <tr style=\"text-align: right;\">\n",
              "      <th></th>\n",
              "      <th>polluant</th>\n",
              "      <th>valeur</th>\n",
              "      <th>heure</th>\n",
              "      <th>arrondissement_ville</th>\n",
              "      <th>secteur_nom</th>\n",
              "      <th>hauteur</th>\n",
              "    </tr>\n",
              "    <tr>\n",
              "      <th>stationId</th>\n",
              "      <th></th>\n",
              "      <th></th>\n",
              "      <th></th>\n",
              "      <th></th>\n",
              "      <th></th>\n",
              "      <th></th>\n",
              "    </tr>\n",
              "  </thead>\n",
              "  <tbody>\n",
              "    <tr>\n",
              "      <th>3</th>\n",
              "      <td>1</td>\n",
              "      <td>1</td>\n",
              "      <td>0</td>\n",
              "      <td>1</td>\n",
              "      <td>1</td>\n",
              "      <td>4.0</td>\n",
              "    </tr>\n",
              "  </tbody>\n",
              "</table>\n",
              "</div>\n",
              "      <button class=\"colab-df-convert\" onclick=\"convertToInteractive('df-b9a7606f-fa79-492b-ab7f-301e0346d860')\"\n",
              "              title=\"Convert this dataframe to an interactive table.\"\n",
              "              style=\"display:none;\">\n",
              "        \n",
              "  <svg xmlns=\"http://www.w3.org/2000/svg\" height=\"24px\"viewBox=\"0 0 24 24\"\n",
              "       width=\"24px\">\n",
              "    <path d=\"M0 0h24v24H0V0z\" fill=\"none\"/>\n",
              "    <path d=\"M18.56 5.44l.94 2.06.94-2.06 2.06-.94-2.06-.94-.94-2.06-.94 2.06-2.06.94zm-11 1L8.5 8.5l.94-2.06 2.06-.94-2.06-.94L8.5 2.5l-.94 2.06-2.06.94zm10 10l.94 2.06.94-2.06 2.06-.94-2.06-.94-.94-2.06-.94 2.06-2.06.94z\"/><path d=\"M17.41 7.96l-1.37-1.37c-.4-.4-.92-.59-1.43-.59-.52 0-1.04.2-1.43.59L10.3 9.45l-7.72 7.72c-.78.78-.78 2.05 0 2.83L4 21.41c.39.39.9.59 1.41.59.51 0 1.02-.2 1.41-.59l7.78-7.78 2.81-2.81c.8-.78.8-2.07 0-2.86zM5.41 20L4 18.59l7.72-7.72 1.47 1.35L5.41 20z\"/>\n",
              "  </svg>\n",
              "      </button>\n",
              "      \n",
              "  <style>\n",
              "    .colab-df-container {\n",
              "      display:flex;\n",
              "      flex-wrap:wrap;\n",
              "      gap: 12px;\n",
              "    }\n",
              "\n",
              "    .colab-df-convert {\n",
              "      background-color: #E8F0FE;\n",
              "      border: none;\n",
              "      border-radius: 50%;\n",
              "      cursor: pointer;\n",
              "      display: none;\n",
              "      fill: #1967D2;\n",
              "      height: 32px;\n",
              "      padding: 0 0 0 0;\n",
              "      width: 32px;\n",
              "    }\n",
              "\n",
              "    .colab-df-convert:hover {\n",
              "      background-color: #E2EBFA;\n",
              "      box-shadow: 0px 1px 2px rgba(60, 64, 67, 0.3), 0px 1px 3px 1px rgba(60, 64, 67, 0.15);\n",
              "      fill: #174EA6;\n",
              "    }\n",
              "\n",
              "    [theme=dark] .colab-df-convert {\n",
              "      background-color: #3B4455;\n",
              "      fill: #D2E3FC;\n",
              "    }\n",
              "\n",
              "    [theme=dark] .colab-df-convert:hover {\n",
              "      background-color: #434B5C;\n",
              "      box-shadow: 0px 1px 3px 1px rgba(0, 0, 0, 0.15);\n",
              "      filter: drop-shadow(0px 1px 2px rgba(0, 0, 0, 0.3));\n",
              "      fill: #FFFFFF;\n",
              "    }\n",
              "  </style>\n",
              "\n",
              "      <script>\n",
              "        const buttonEl =\n",
              "          document.querySelector('#df-b9a7606f-fa79-492b-ab7f-301e0346d860 button.colab-df-convert');\n",
              "        buttonEl.style.display =\n",
              "          google.colab.kernel.accessAllowed ? 'block' : 'none';\n",
              "\n",
              "        async function convertToInteractive(key) {\n",
              "          const element = document.querySelector('#df-b9a7606f-fa79-492b-ab7f-301e0346d860');\n",
              "          const dataTable =\n",
              "            await google.colab.kernel.invokeFunction('convertToInteractive',\n",
              "                                                     [key], {});\n",
              "          if (!dataTable) return;\n",
              "\n",
              "          const docLinkHtml = 'Like what you see? Visit the ' +\n",
              "            '<a target=\"_blank\" href=https://colab.research.google.com/notebooks/data_table.ipynb>data table notebook</a>'\n",
              "            + ' to learn more about interactive tables.';\n",
              "          element.innerHTML = '';\n",
              "          dataTable['output_type'] = 'display_data';\n",
              "          await google.colab.output.renderOutput(dataTable, element);\n",
              "          const docLink = document.createElement('div');\n",
              "          docLink.innerHTML = docLinkHtml;\n",
              "          element.appendChild(docLink);\n",
              "        }\n",
              "      </script>\n",
              "    </div>\n",
              "  </div>\n",
              "  "
            ]
          },
          "metadata": {},
          "execution_count": 101
        }
      ]
    },
    {
      "cell_type": "code",
      "source": [
        "model.predict(x_predict)"
      ],
      "metadata": {
        "colab": {
          "base_uri": "https://localhost:8080/",
          "height": 435
        },
        "id": "231YHd6RxpFO",
        "outputId": "4e57aaaa-a766-4953-8470-a14ec0d7975a"
      },
      "execution_count": 102,
      "outputs": [
        {
          "output_type": "stream",
          "name": "stderr",
          "text": [
            "/usr/local/lib/python3.7/dist-packages/sklearn/base.py:493: FutureWarning: The feature names should match those that were passed during fit. Starting version 1.2, an error will be raised.\n",
            "Feature names unseen at fit time:\n",
            "- valeur\n",
            "Feature names must be in the same order as they were in fit.\n",
            "\n",
            "  warnings.warn(message, FutureWarning)\n"
          ]
        },
        {
          "output_type": "error",
          "ename": "ValueError",
          "evalue": "ignored",
          "traceback": [
            "\u001b[0;31m---------------------------------------------------------------------------\u001b[0m",
            "\u001b[0;31mValueError\u001b[0m                                Traceback (most recent call last)",
            "\u001b[0;32m<ipython-input-102-2f5793004719>\u001b[0m in \u001b[0;36m<module>\u001b[0;34m\u001b[0m\n\u001b[0;32m----> 1\u001b[0;31m \u001b[0mmodel\u001b[0m\u001b[0;34m.\u001b[0m\u001b[0mpredict\u001b[0m\u001b[0;34m(\u001b[0m\u001b[0mx_predict\u001b[0m\u001b[0;34m)\u001b[0m\u001b[0;34m\u001b[0m\u001b[0;34m\u001b[0m\u001b[0m\n\u001b[0m",
            "\u001b[0;32m/usr/local/lib/python3.7/dist-packages/sklearn/linear_model/_base.py\u001b[0m in \u001b[0;36mpredict\u001b[0;34m(self, X)\u001b[0m\n\u001b[1;32m    360\u001b[0m             \u001b[0mReturns\u001b[0m \u001b[0mpredicted\u001b[0m \u001b[0mvalues\u001b[0m\u001b[0;34m.\u001b[0m\u001b[0;34m\u001b[0m\u001b[0;34m\u001b[0m\u001b[0m\n\u001b[1;32m    361\u001b[0m         \"\"\"\n\u001b[0;32m--> 362\u001b[0;31m         \u001b[0;32mreturn\u001b[0m \u001b[0mself\u001b[0m\u001b[0;34m.\u001b[0m\u001b[0m_decision_function\u001b[0m\u001b[0;34m(\u001b[0m\u001b[0mX\u001b[0m\u001b[0;34m)\u001b[0m\u001b[0;34m\u001b[0m\u001b[0;34m\u001b[0m\u001b[0m\n\u001b[0m\u001b[1;32m    363\u001b[0m \u001b[0;34m\u001b[0m\u001b[0m\n\u001b[1;32m    364\u001b[0m     \u001b[0m_preprocess_data\u001b[0m \u001b[0;34m=\u001b[0m \u001b[0mstaticmethod\u001b[0m\u001b[0;34m(\u001b[0m\u001b[0m_preprocess_data\u001b[0m\u001b[0;34m)\u001b[0m\u001b[0;34m\u001b[0m\u001b[0;34m\u001b[0m\u001b[0m\n",
            "\u001b[0;32m/usr/local/lib/python3.7/dist-packages/sklearn/linear_model/_base.py\u001b[0m in \u001b[0;36m_decision_function\u001b[0;34m(self, X)\u001b[0m\n\u001b[1;32m    343\u001b[0m         \u001b[0mcheck_is_fitted\u001b[0m\u001b[0;34m(\u001b[0m\u001b[0mself\u001b[0m\u001b[0;34m)\u001b[0m\u001b[0;34m\u001b[0m\u001b[0;34m\u001b[0m\u001b[0m\n\u001b[1;32m    344\u001b[0m \u001b[0;34m\u001b[0m\u001b[0m\n\u001b[0;32m--> 345\u001b[0;31m         \u001b[0mX\u001b[0m \u001b[0;34m=\u001b[0m \u001b[0mself\u001b[0m\u001b[0;34m.\u001b[0m\u001b[0m_validate_data\u001b[0m\u001b[0;34m(\u001b[0m\u001b[0mX\u001b[0m\u001b[0;34m,\u001b[0m \u001b[0maccept_sparse\u001b[0m\u001b[0;34m=\u001b[0m\u001b[0;34m[\u001b[0m\u001b[0;34m\"csr\"\u001b[0m\u001b[0;34m,\u001b[0m \u001b[0;34m\"csc\"\u001b[0m\u001b[0;34m,\u001b[0m \u001b[0;34m\"coo\"\u001b[0m\u001b[0;34m]\u001b[0m\u001b[0;34m,\u001b[0m \u001b[0mreset\u001b[0m\u001b[0;34m=\u001b[0m\u001b[0;32mFalse\u001b[0m\u001b[0;34m)\u001b[0m\u001b[0;34m\u001b[0m\u001b[0;34m\u001b[0m\u001b[0m\n\u001b[0m\u001b[1;32m    346\u001b[0m         \u001b[0;32mreturn\u001b[0m \u001b[0msafe_sparse_dot\u001b[0m\u001b[0;34m(\u001b[0m\u001b[0mX\u001b[0m\u001b[0;34m,\u001b[0m \u001b[0mself\u001b[0m\u001b[0;34m.\u001b[0m\u001b[0mcoef_\u001b[0m\u001b[0;34m.\u001b[0m\u001b[0mT\u001b[0m\u001b[0;34m,\u001b[0m \u001b[0mdense_output\u001b[0m\u001b[0;34m=\u001b[0m\u001b[0;32mTrue\u001b[0m\u001b[0;34m)\u001b[0m \u001b[0;34m+\u001b[0m \u001b[0mself\u001b[0m\u001b[0;34m.\u001b[0m\u001b[0mintercept_\u001b[0m\u001b[0;34m\u001b[0m\u001b[0;34m\u001b[0m\u001b[0m\n\u001b[1;32m    347\u001b[0m \u001b[0;34m\u001b[0m\u001b[0m\n",
            "\u001b[0;32m/usr/local/lib/python3.7/dist-packages/sklearn/base.py\u001b[0m in \u001b[0;36m_validate_data\u001b[0;34m(self, X, y, reset, validate_separately, **check_params)\u001b[0m\n\u001b[1;32m    583\u001b[0m \u001b[0;34m\u001b[0m\u001b[0m\n\u001b[1;32m    584\u001b[0m         \u001b[0;32mif\u001b[0m \u001b[0;32mnot\u001b[0m \u001b[0mno_val_X\u001b[0m \u001b[0;32mand\u001b[0m \u001b[0mcheck_params\u001b[0m\u001b[0;34m.\u001b[0m\u001b[0mget\u001b[0m\u001b[0;34m(\u001b[0m\u001b[0;34m\"ensure_2d\"\u001b[0m\u001b[0;34m,\u001b[0m \u001b[0;32mTrue\u001b[0m\u001b[0;34m)\u001b[0m\u001b[0;34m:\u001b[0m\u001b[0;34m\u001b[0m\u001b[0;34m\u001b[0m\u001b[0m\n\u001b[0;32m--> 585\u001b[0;31m             \u001b[0mself\u001b[0m\u001b[0;34m.\u001b[0m\u001b[0m_check_n_features\u001b[0m\u001b[0;34m(\u001b[0m\u001b[0mX\u001b[0m\u001b[0;34m,\u001b[0m \u001b[0mreset\u001b[0m\u001b[0;34m=\u001b[0m\u001b[0mreset\u001b[0m\u001b[0;34m)\u001b[0m\u001b[0;34m\u001b[0m\u001b[0;34m\u001b[0m\u001b[0m\n\u001b[0m\u001b[1;32m    586\u001b[0m \u001b[0;34m\u001b[0m\u001b[0m\n\u001b[1;32m    587\u001b[0m         \u001b[0;32mreturn\u001b[0m \u001b[0mout\u001b[0m\u001b[0;34m\u001b[0m\u001b[0;34m\u001b[0m\u001b[0m\n",
            "\u001b[0;32m/usr/local/lib/python3.7/dist-packages/sklearn/base.py\u001b[0m in \u001b[0;36m_check_n_features\u001b[0;34m(self, X, reset)\u001b[0m\n\u001b[1;32m    399\u001b[0m         \u001b[0;32mif\u001b[0m \u001b[0mn_features\u001b[0m \u001b[0;34m!=\u001b[0m \u001b[0mself\u001b[0m\u001b[0;34m.\u001b[0m\u001b[0mn_features_in_\u001b[0m\u001b[0;34m:\u001b[0m\u001b[0;34m\u001b[0m\u001b[0;34m\u001b[0m\u001b[0m\n\u001b[1;32m    400\u001b[0m             raise ValueError(\n\u001b[0;32m--> 401\u001b[0;31m                 \u001b[0;34mf\"X has {n_features} features, but {self.__class__.__name__} \"\u001b[0m\u001b[0;34m\u001b[0m\u001b[0;34m\u001b[0m\u001b[0m\n\u001b[0m\u001b[1;32m    402\u001b[0m                 \u001b[0;34mf\"is expecting {self.n_features_in_} features as input.\"\u001b[0m\u001b[0;34m\u001b[0m\u001b[0;34m\u001b[0m\u001b[0m\n\u001b[1;32m    403\u001b[0m             )\n",
            "\u001b[0;31mValueError\u001b[0m: X has 6 features, but LinearRegression is expecting 5 features as input."
          ]
        }
      ]
    }
  ]
}